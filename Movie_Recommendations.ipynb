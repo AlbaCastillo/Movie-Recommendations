{
  "nbformat": 4,
  "nbformat_minor": 0,
  "metadata": {
    "colab": {
      "provenance": [],
      "authorship_tag": "ABX9TyPiL2sx/1YIvtofXmnjG4Az",
      "include_colab_link": true
    },
    "kernelspec": {
      "name": "python3",
      "display_name": "Python 3"
    },
    "language_info": {
      "name": "python"
    }
  },
  "cells": [
    {
      "cell_type": "markdown",
      "metadata": {
        "id": "view-in-github",
        "colab_type": "text"
      },
      "source": [
        "<a href=\"https://colab.research.google.com/github/AlbaCastillo/Movie-Recommendations-Model/blob/main/Movie_Recommendations.ipynb\" target=\"_parent\"><img src=\"https://colab.research.google.com/assets/colab-badge.svg\" alt=\"Open In Colab\"/></a>"
      ]
    },
    {
      "cell_type": "markdown",
      "source": [
        "# Movies Recommendations\n"
      ],
      "metadata": {
        "id": "lOnuAv_kRL27"
      }
    },
    {
      "cell_type": "markdown",
      "source": [
        "### ETL"
      ],
      "metadata": {
        "id": "N4xGXNcxRnIp"
      }
    },
    {
      "cell_type": "code",
      "execution_count": 1,
      "metadata": {
        "id": "E701pY5HQ1mC"
      },
      "outputs": [],
      "source": [
        "import pandas as pd\n",
        "import numpy as np"
      ]
    },
    {
      "cell_type": "markdown",
      "source": [
        "Carga de datos"
      ],
      "metadata": {
        "id": "h2XAJN5ibAUS"
      }
    },
    {
      "cell_type": "code",
      "source": [
        "# Se extrae directamente desde un archivo en la carpeta de drive\n",
        "from google.colab import drive\n",
        "drive.mount('/content/drive')"
      ],
      "metadata": {
        "colab": {
          "base_uri": "https://localhost:8080/"
        },
        "id": "henW7g-ZUS8h",
        "outputId": "92f4a0c5-4b2c-4785-b88d-ca10c243fea4"
      },
      "execution_count": 2,
      "outputs": [
        {
          "output_type": "stream",
          "name": "stdout",
          "text": [
            "Mounted at /content/drive\n"
          ]
        }
      ]
    },
    {
      "cell_type": "code",
      "source": [
        "# Se cargan los datos a un dataframe\n",
        "movies = pd.read_csv(\"/content/drive/MyDrive/Modelo de Recomendaciones (Movies)/movies_dataset.csv\")"
      ],
      "metadata": {
        "colab": {
          "base_uri": "https://localhost:8080/"
        },
        "id": "rmfCvI8kSGh5",
        "outputId": "39e5331d-250b-4115-dba0-22140c4536d1"
      },
      "execution_count": 3,
      "outputs": [
        {
          "output_type": "stream",
          "name": "stderr",
          "text": [
            "<ipython-input-3-ae0dddb60e7b>:2: DtypeWarning: Columns (10) have mixed types. Specify dtype option on import or set low_memory=False.\n",
            "  movies = pd.read_csv(\"/content/drive/MyDrive/Modelo de Recomendaciones (Movies)/movies_dataset.csv\")\n"
          ]
        }
      ]
    },
    {
      "cell_type": "code",
      "source": [
        "# movies = pd.read_csv(\"/movies_dataset.csv\")"
      ],
      "metadata": {
        "id": "VNC88XNXyBRF"
      },
      "execution_count": 4,
      "outputs": []
    },
    {
      "cell_type": "code",
      "source": [
        "movies.head(1)"
      ],
      "metadata": {
        "colab": {
          "base_uri": "https://localhost:8080/",
          "height": 261
        },
        "id": "GYWp0wgySHbq",
        "outputId": "1380b39f-563b-41d5-c9d5-437af32758a7"
      },
      "execution_count": 5,
      "outputs": [
        {
          "output_type": "execute_result",
          "data": {
            "text/plain": [
              "   adult                              belongs_to_collection    budget  \\\n",
              "0  False  {'id': 10194, 'name': 'Toy Story Collection', ...  30000000   \n",
              "\n",
              "                                              genres  \\\n",
              "0  [{'id': 16, 'name': 'Animation'}, {'id': 35, '...   \n",
              "\n",
              "                               homepage   id    imdb_id original_language  \\\n",
              "0  http://toystory.disney.com/toy-story  862  tt0114709                en   \n",
              "\n",
              "  original_title                                           overview  ...  \\\n",
              "0      Toy Story  Led by Woody, Andy's toys live happily in his ...  ...   \n",
              "\n",
              "  release_date      revenue runtime                          spoken_languages  \\\n",
              "0   1995-10-30  373554033.0    81.0  [{'iso_639_1': 'en', 'name': 'English'}]   \n",
              "\n",
              "     status  tagline      title  video vote_average vote_count  \n",
              "0  Released      NaN  Toy Story  False          7.7     5415.0  \n",
              "\n",
              "[1 rows x 24 columns]"
            ],
            "text/html": [
              "\n",
              "  <div id=\"df-4e8bdda6-1028-4087-ae6d-5285573ff069\">\n",
              "    <div class=\"colab-df-container\">\n",
              "      <div>\n",
              "<style scoped>\n",
              "    .dataframe tbody tr th:only-of-type {\n",
              "        vertical-align: middle;\n",
              "    }\n",
              "\n",
              "    .dataframe tbody tr th {\n",
              "        vertical-align: top;\n",
              "    }\n",
              "\n",
              "    .dataframe thead th {\n",
              "        text-align: right;\n",
              "    }\n",
              "</style>\n",
              "<table border=\"1\" class=\"dataframe\">\n",
              "  <thead>\n",
              "    <tr style=\"text-align: right;\">\n",
              "      <th></th>\n",
              "      <th>adult</th>\n",
              "      <th>belongs_to_collection</th>\n",
              "      <th>budget</th>\n",
              "      <th>genres</th>\n",
              "      <th>homepage</th>\n",
              "      <th>id</th>\n",
              "      <th>imdb_id</th>\n",
              "      <th>original_language</th>\n",
              "      <th>original_title</th>\n",
              "      <th>overview</th>\n",
              "      <th>...</th>\n",
              "      <th>release_date</th>\n",
              "      <th>revenue</th>\n",
              "      <th>runtime</th>\n",
              "      <th>spoken_languages</th>\n",
              "      <th>status</th>\n",
              "      <th>tagline</th>\n",
              "      <th>title</th>\n",
              "      <th>video</th>\n",
              "      <th>vote_average</th>\n",
              "      <th>vote_count</th>\n",
              "    </tr>\n",
              "  </thead>\n",
              "  <tbody>\n",
              "    <tr>\n",
              "      <th>0</th>\n",
              "      <td>False</td>\n",
              "      <td>{'id': 10194, 'name': 'Toy Story Collection', ...</td>\n",
              "      <td>30000000</td>\n",
              "      <td>[{'id': 16, 'name': 'Animation'}, {'id': 35, '...</td>\n",
              "      <td>http://toystory.disney.com/toy-story</td>\n",
              "      <td>862</td>\n",
              "      <td>tt0114709</td>\n",
              "      <td>en</td>\n",
              "      <td>Toy Story</td>\n",
              "      <td>Led by Woody, Andy's toys live happily in his ...</td>\n",
              "      <td>...</td>\n",
              "      <td>1995-10-30</td>\n",
              "      <td>373554033.0</td>\n",
              "      <td>81.0</td>\n",
              "      <td>[{'iso_639_1': 'en', 'name': 'English'}]</td>\n",
              "      <td>Released</td>\n",
              "      <td>NaN</td>\n",
              "      <td>Toy Story</td>\n",
              "      <td>False</td>\n",
              "      <td>7.7</td>\n",
              "      <td>5415.0</td>\n",
              "    </tr>\n",
              "  </tbody>\n",
              "</table>\n",
              "<p>1 rows × 24 columns</p>\n",
              "</div>\n",
              "      <button class=\"colab-df-convert\" onclick=\"convertToInteractive('df-4e8bdda6-1028-4087-ae6d-5285573ff069')\"\n",
              "              title=\"Convert this dataframe to an interactive table.\"\n",
              "              style=\"display:none;\">\n",
              "        \n",
              "  <svg xmlns=\"http://www.w3.org/2000/svg\" height=\"24px\"viewBox=\"0 0 24 24\"\n",
              "       width=\"24px\">\n",
              "    <path d=\"M0 0h24v24H0V0z\" fill=\"none\"/>\n",
              "    <path d=\"M18.56 5.44l.94 2.06.94-2.06 2.06-.94-2.06-.94-.94-2.06-.94 2.06-2.06.94zm-11 1L8.5 8.5l.94-2.06 2.06-.94-2.06-.94L8.5 2.5l-.94 2.06-2.06.94zm10 10l.94 2.06.94-2.06 2.06-.94-2.06-.94-.94-2.06-.94 2.06-2.06.94z\"/><path d=\"M17.41 7.96l-1.37-1.37c-.4-.4-.92-.59-1.43-.59-.52 0-1.04.2-1.43.59L10.3 9.45l-7.72 7.72c-.78.78-.78 2.05 0 2.83L4 21.41c.39.39.9.59 1.41.59.51 0 1.02-.2 1.41-.59l7.78-7.78 2.81-2.81c.8-.78.8-2.07 0-2.86zM5.41 20L4 18.59l7.72-7.72 1.47 1.35L5.41 20z\"/>\n",
              "  </svg>\n",
              "      </button>\n",
              "      \n",
              "  <style>\n",
              "    .colab-df-container {\n",
              "      display:flex;\n",
              "      flex-wrap:wrap;\n",
              "      gap: 12px;\n",
              "    }\n",
              "\n",
              "    .colab-df-convert {\n",
              "      background-color: #E8F0FE;\n",
              "      border: none;\n",
              "      border-radius: 50%;\n",
              "      cursor: pointer;\n",
              "      display: none;\n",
              "      fill: #1967D2;\n",
              "      height: 32px;\n",
              "      padding: 0 0 0 0;\n",
              "      width: 32px;\n",
              "    }\n",
              "\n",
              "    .colab-df-convert:hover {\n",
              "      background-color: #E2EBFA;\n",
              "      box-shadow: 0px 1px 2px rgba(60, 64, 67, 0.3), 0px 1px 3px 1px rgba(60, 64, 67, 0.15);\n",
              "      fill: #174EA6;\n",
              "    }\n",
              "\n",
              "    [theme=dark] .colab-df-convert {\n",
              "      background-color: #3B4455;\n",
              "      fill: #D2E3FC;\n",
              "    }\n",
              "\n",
              "    [theme=dark] .colab-df-convert:hover {\n",
              "      background-color: #434B5C;\n",
              "      box-shadow: 0px 1px 3px 1px rgba(0, 0, 0, 0.15);\n",
              "      filter: drop-shadow(0px 1px 2px rgba(0, 0, 0, 0.3));\n",
              "      fill: #FFFFFF;\n",
              "    }\n",
              "  </style>\n",
              "\n",
              "      <script>\n",
              "        const buttonEl =\n",
              "          document.querySelector('#df-4e8bdda6-1028-4087-ae6d-5285573ff069 button.colab-df-convert');\n",
              "        buttonEl.style.display =\n",
              "          google.colab.kernel.accessAllowed ? 'block' : 'none';\n",
              "\n",
              "        async function convertToInteractive(key) {\n",
              "          const element = document.querySelector('#df-4e8bdda6-1028-4087-ae6d-5285573ff069');\n",
              "          const dataTable =\n",
              "            await google.colab.kernel.invokeFunction('convertToInteractive',\n",
              "                                                     [key], {});\n",
              "          if (!dataTable) return;\n",
              "\n",
              "          const docLinkHtml = 'Like what you see? Visit the ' +\n",
              "            '<a target=\"_blank\" href=https://colab.research.google.com/notebooks/data_table.ipynb>data table notebook</a>'\n",
              "            + ' to learn more about interactive tables.';\n",
              "          element.innerHTML = '';\n",
              "          dataTable['output_type'] = 'display_data';\n",
              "          await google.colab.output.renderOutput(dataTable, element);\n",
              "          const docLink = document.createElement('div');\n",
              "          docLink.innerHTML = docLinkHtml;\n",
              "          element.appendChild(docLink);\n",
              "        }\n",
              "      </script>\n",
              "    </div>\n",
              "  </div>\n",
              "  "
            ]
          },
          "metadata": {},
          "execution_count": 5
        }
      ]
    },
    {
      "cell_type": "code",
      "source": [
        "movies_final = movies"
      ],
      "metadata": {
        "id": "aSVcBwkjeHT6"
      },
      "execution_count": 6,
      "outputs": []
    },
    {
      "cell_type": "code",
      "source": [
        "movies_final.info()"
      ],
      "metadata": {
        "colab": {
          "base_uri": "https://localhost:8080/"
        },
        "id": "08hgQ40khOCL",
        "outputId": "5487bf3b-b32a-4ecd-d061-051187b8a96b"
      },
      "execution_count": 7,
      "outputs": [
        {
          "output_type": "stream",
          "name": "stdout",
          "text": [
            "<class 'pandas.core.frame.DataFrame'>\n",
            "RangeIndex: 45466 entries, 0 to 45465\n",
            "Data columns (total 24 columns):\n",
            " #   Column                 Non-Null Count  Dtype  \n",
            "---  ------                 --------------  -----  \n",
            " 0   adult                  45466 non-null  object \n",
            " 1   belongs_to_collection  4494 non-null   object \n",
            " 2   budget                 45466 non-null  object \n",
            " 3   genres                 45466 non-null  object \n",
            " 4   homepage               7782 non-null   object \n",
            " 5   id                     45466 non-null  object \n",
            " 6   imdb_id                45449 non-null  object \n",
            " 7   original_language      45455 non-null  object \n",
            " 8   original_title         45466 non-null  object \n",
            " 9   overview               44512 non-null  object \n",
            " 10  popularity             45461 non-null  object \n",
            " 11  poster_path            45080 non-null  object \n",
            " 12  production_companies   45463 non-null  object \n",
            " 13  production_countries   45463 non-null  object \n",
            " 14  release_date           45379 non-null  object \n",
            " 15  revenue                45460 non-null  float64\n",
            " 16  runtime                45203 non-null  float64\n",
            " 17  spoken_languages       45460 non-null  object \n",
            " 18  status                 45379 non-null  object \n",
            " 19  tagline                20412 non-null  object \n",
            " 20  title                  45460 non-null  object \n",
            " 21  video                  45460 non-null  object \n",
            " 22  vote_average           45460 non-null  float64\n",
            " 23  vote_count             45460 non-null  float64\n",
            "dtypes: float64(4), object(20)\n",
            "memory usage: 8.3+ MB\n"
          ]
        }
      ]
    },
    {
      "cell_type": "markdown",
      "source": [
        "Valores nulos de los campos revenue, budget rellenados por el número 0"
      ],
      "metadata": {
        "id": "Zt17mcPciMBT"
      }
    },
    {
      "cell_type": "code",
      "source": [
        "movies_final['revenue'].fillna(0, inplace=True)"
      ],
      "metadata": {
        "id": "bMViBjgoiK1D"
      },
      "execution_count": 8,
      "outputs": []
    },
    {
      "cell_type": "code",
      "source": [
        "movies_final['budget'].fillna(0, inplace=True)"
      ],
      "metadata": {
        "id": "ehmfb5H7isHj"
      },
      "execution_count": 9,
      "outputs": []
    },
    {
      "cell_type": "markdown",
      "source": [
        " Valores nulos del campo release_date  deben eliminarse"
      ],
      "metadata": {
        "id": "YRm0kjwmizRa"
      }
    },
    {
      "cell_type": "code",
      "source": [
        "movies_final.dropna(subset=['release_date'], inplace=True)"
      ],
      "metadata": {
        "id": "SotKI23ni4Eb"
      },
      "execution_count": 10,
      "outputs": []
    },
    {
      "cell_type": "markdown",
      "source": [
        "Columna con el retorno de inversión, llamada return con los campos revenue y budget, dividiendo estas dos últimas revenue / budget"
      ],
      "metadata": {
        "id": "T4pZMO7Cj1QM"
      }
    },
    {
      "cell_type": "code",
      "source": [
        "# movies_final['return'] = movies_final['revenue'].astype(float) / movies_final['budget'].astype(float)\n",
        "# ValueError: could not convert string to float: '/ff9qCepilowshEtG2GYWwzt2bs4.jpg'"
      ],
      "metadata": {
        "id": "ez5NNlVDpQh9"
      },
      "execution_count": 11,
      "outputs": []
    },
    {
      "cell_type": "code",
      "source": [
        "# Mascara del valor erroneo\n",
        "# mask = movies_final[(movies_final['revenue'] == '/ff9qCepilowshEtG2GYWwzt2bs4.jpg') | (movies_final['budget'] == '/ff9qCepilowshEtG2GYWwzt2bs4.jpg')]"
      ],
      "metadata": {
        "id": "XT89OXNhm_eL"
      },
      "execution_count": 12,
      "outputs": []
    },
    {
      "cell_type": "code",
      "source": [
        "# Borrar fila\n",
        "# movies_final = movies_final.drop(mask.index)"
      ],
      "metadata": {
        "id": "5vUqBnG7ndlT"
      },
      "execution_count": 13,
      "outputs": []
    },
    {
      "cell_type": "markdown",
      "source": [
        "Se observa un error en los datos de la columna 'budget' ya que deberia ser el presupuesto de la película, en dólares. Y hay datos tipo '/ ... .jpg'"
      ],
      "metadata": {
        "id": "bCoh9UdKonws"
      }
    },
    {
      "cell_type": "markdown",
      "source": [
        "Son varias columnas entonces:"
      ],
      "metadata": {
        "id": "u6QzgLAzpmNM"
      }
    },
    {
      "cell_type": "code",
      "source": [
        "# Convertir valores numéricos a float y mantener valores de texto como string\n",
        "movies_final['budget'] = pd.to_numeric(movies_final['budget'], errors='coerce').fillna(movies_final['budget'])\n",
        "#El parámetro \"errors\" se establece en \"coerce\" para que cualquier valor que no se pueda convertir en un número se establezca en \"NaN\"\n",
        "# Luego se rellena con el valor original fillna(movies_final['budget']), para luego ser borrados"
      ],
      "metadata": {
        "id": "ziulhI7_om8s"
      },
      "execution_count": 14,
      "outputs": []
    },
    {
      "cell_type": "code",
      "source": [
        "# Errores\n",
        "error = movies_final.loc[movies_final['budget'].apply(type) == str, 'budget']\n",
        "error"
      ],
      "metadata": {
        "colab": {
          "base_uri": "https://localhost:8080/"
        },
        "id": "Q-kLmtDGk5ZE",
        "outputId": "2d3167fd-9180-4d2b-cffa-187e3555cdc5"
      },
      "execution_count": 15,
      "outputs": [
        {
          "output_type": "execute_result",
          "data": {
            "text/plain": [
              "19730    /ff9qCepilowshEtG2GYWwzt2bs4.jpg\n",
              "29503    /zV8bHuSL6WXoD6FWogP9j4x80bL.jpg\n",
              "35587    /zaSf5OG7V8X8gqFvly88zDdRm46.jpg\n",
              "Name: budget, dtype: object"
            ]
          },
          "metadata": {},
          "execution_count": 15
        }
      ]
    },
    {
      "cell_type": "code",
      "source": [
        "# Borrar filas\n",
        "movies_final = movies_final.drop(error.index)"
      ],
      "metadata": {
        "id": "bT8jtigFqQDs"
      },
      "execution_count": 16,
      "outputs": []
    },
    {
      "cell_type": "code",
      "source": [
        "movies_final['budget'] == 0"
      ],
      "metadata": {
        "colab": {
          "base_uri": "https://localhost:8080/"
        },
        "id": "t3yPlPowrrXk",
        "outputId": "9a9d6006-3c9c-4c96-ee0e-572cff3c389c"
      },
      "execution_count": 17,
      "outputs": [
        {
          "output_type": "execute_result",
          "data": {
            "text/plain": [
              "0        False\n",
              "1        False\n",
              "2         True\n",
              "3        False\n",
              "4         True\n",
              "         ...  \n",
              "45460     True\n",
              "45462     True\n",
              "45463     True\n",
              "45464     True\n",
              "45465     True\n",
              "Name: budget, Length: 45376, dtype: bool"
            ]
          },
          "metadata": {},
          "execution_count": 17
        }
      ]
    },
    {
      "cell_type": "code",
      "source": [
        "(movies_final['budget'] < 0).any()"
      ],
      "metadata": {
        "colab": {
          "base_uri": "https://localhost:8080/"
        },
        "id": "JB7qrM-bsrR1",
        "outputId": "a903db70-dea3-40bd-f53c-85284121cbea"
      },
      "execution_count": 18,
      "outputs": [
        {
          "output_type": "execute_result",
          "data": {
            "text/plain": [
              "False"
            ]
          },
          "metadata": {},
          "execution_count": 18
        }
      ]
    },
    {
      "cell_type": "code",
      "source": [
        "# Calcular la columna \"return\" y asignar 0 cuando \"budget\" sea 0 ya que no se puede dividir entre 0\n",
        "movies_final['return'] = np.where(movies_final['budget'] == 0, 0,\n",
        "                                  movies_final['revenue'].astype(float) / movies_final['budget'].astype(float))"
      ],
      "metadata": {
        "id": "IzW8stRCkGM7"
      },
      "execution_count": 19,
      "outputs": []
    },
    {
      "cell_type": "code",
      "source": [
        "movies_final['return']"
      ],
      "metadata": {
        "colab": {
          "base_uri": "https://localhost:8080/"
        },
        "id": "Oq6BxZJIqapE",
        "outputId": "da93fa60-563c-4f7a-a253-fa4cd7573fbc"
      },
      "execution_count": 20,
      "outputs": [
        {
          "output_type": "execute_result",
          "data": {
            "text/plain": [
              "0        12.451801\n",
              "1         4.043035\n",
              "2         0.000000\n",
              "3         5.090760\n",
              "4         0.000000\n",
              "           ...    \n",
              "45460     0.000000\n",
              "45462     0.000000\n",
              "45463     0.000000\n",
              "45464     0.000000\n",
              "45465     0.000000\n",
              "Name: return, Length: 45376, dtype: float64"
            ]
          },
          "metadata": {},
          "execution_count": 20
        }
      ]
    },
    {
      "cell_type": "markdown",
      "source": [
        "Columnas que no serán utilizadas, video, imdb_id, adult, original_title, poster_path y homepage"
      ],
      "metadata": {
        "id": "iHG-sGH2t1L8"
      }
    },
    {
      "cell_type": "code",
      "source": [
        "Cols = ['video', 'imdb_id', 'adult', 'original_title', 'poster_path', 'homepage']\n",
        "movies_final = movies_final.drop(Cols, axis=1)"
      ],
      "metadata": {
        "id": "g8j7pugdt49l"
      },
      "execution_count": 21,
      "outputs": []
    },
    {
      "cell_type": "code",
      "source": [
        "movies_final.head(1)"
      ],
      "metadata": {
        "colab": {
          "base_uri": "https://localhost:8080/",
          "height": 231
        },
        "id": "1i_nwaOmukyV",
        "outputId": "537e2993-9239-4807-c4ec-f198482d179f"
      },
      "execution_count": 22,
      "outputs": [
        {
          "output_type": "execute_result",
          "data": {
            "text/plain": [
              "                               belongs_to_collection      budget  \\\n",
              "0  {'id': 10194, 'name': 'Toy Story Collection', ...  30000000.0   \n",
              "\n",
              "                                              genres   id original_language  \\\n",
              "0  [{'id': 16, 'name': 'Animation'}, {'id': 35, '...  862                en   \n",
              "\n",
              "                                            overview popularity  \\\n",
              "0  Led by Woody, Andy's toys live happily in his ...  21.946943   \n",
              "\n",
              "                             production_companies  \\\n",
              "0  [{'name': 'Pixar Animation Studios', 'id': 3}]   \n",
              "\n",
              "                                production_countries release_date  \\\n",
              "0  [{'iso_3166_1': 'US', 'name': 'United States o...   1995-10-30   \n",
              "\n",
              "       revenue  runtime                          spoken_languages    status  \\\n",
              "0  373554033.0     81.0  [{'iso_639_1': 'en', 'name': 'English'}]  Released   \n",
              "\n",
              "  tagline      title  vote_average  vote_count     return  \n",
              "0     NaN  Toy Story           7.7      5415.0  12.451801  "
            ],
            "text/html": [
              "\n",
              "  <div id=\"df-109da8cb-f1a9-40cf-bdcc-12774eb12bca\">\n",
              "    <div class=\"colab-df-container\">\n",
              "      <div>\n",
              "<style scoped>\n",
              "    .dataframe tbody tr th:only-of-type {\n",
              "        vertical-align: middle;\n",
              "    }\n",
              "\n",
              "    .dataframe tbody tr th {\n",
              "        vertical-align: top;\n",
              "    }\n",
              "\n",
              "    .dataframe thead th {\n",
              "        text-align: right;\n",
              "    }\n",
              "</style>\n",
              "<table border=\"1\" class=\"dataframe\">\n",
              "  <thead>\n",
              "    <tr style=\"text-align: right;\">\n",
              "      <th></th>\n",
              "      <th>belongs_to_collection</th>\n",
              "      <th>budget</th>\n",
              "      <th>genres</th>\n",
              "      <th>id</th>\n",
              "      <th>original_language</th>\n",
              "      <th>overview</th>\n",
              "      <th>popularity</th>\n",
              "      <th>production_companies</th>\n",
              "      <th>production_countries</th>\n",
              "      <th>release_date</th>\n",
              "      <th>revenue</th>\n",
              "      <th>runtime</th>\n",
              "      <th>spoken_languages</th>\n",
              "      <th>status</th>\n",
              "      <th>tagline</th>\n",
              "      <th>title</th>\n",
              "      <th>vote_average</th>\n",
              "      <th>vote_count</th>\n",
              "      <th>return</th>\n",
              "    </tr>\n",
              "  </thead>\n",
              "  <tbody>\n",
              "    <tr>\n",
              "      <th>0</th>\n",
              "      <td>{'id': 10194, 'name': 'Toy Story Collection', ...</td>\n",
              "      <td>30000000.0</td>\n",
              "      <td>[{'id': 16, 'name': 'Animation'}, {'id': 35, '...</td>\n",
              "      <td>862</td>\n",
              "      <td>en</td>\n",
              "      <td>Led by Woody, Andy's toys live happily in his ...</td>\n",
              "      <td>21.946943</td>\n",
              "      <td>[{'name': 'Pixar Animation Studios', 'id': 3}]</td>\n",
              "      <td>[{'iso_3166_1': 'US', 'name': 'United States o...</td>\n",
              "      <td>1995-10-30</td>\n",
              "      <td>373554033.0</td>\n",
              "      <td>81.0</td>\n",
              "      <td>[{'iso_639_1': 'en', 'name': 'English'}]</td>\n",
              "      <td>Released</td>\n",
              "      <td>NaN</td>\n",
              "      <td>Toy Story</td>\n",
              "      <td>7.7</td>\n",
              "      <td>5415.0</td>\n",
              "      <td>12.451801</td>\n",
              "    </tr>\n",
              "  </tbody>\n",
              "</table>\n",
              "</div>\n",
              "      <button class=\"colab-df-convert\" onclick=\"convertToInteractive('df-109da8cb-f1a9-40cf-bdcc-12774eb12bca')\"\n",
              "              title=\"Convert this dataframe to an interactive table.\"\n",
              "              style=\"display:none;\">\n",
              "        \n",
              "  <svg xmlns=\"http://www.w3.org/2000/svg\" height=\"24px\"viewBox=\"0 0 24 24\"\n",
              "       width=\"24px\">\n",
              "    <path d=\"M0 0h24v24H0V0z\" fill=\"none\"/>\n",
              "    <path d=\"M18.56 5.44l.94 2.06.94-2.06 2.06-.94-2.06-.94-.94-2.06-.94 2.06-2.06.94zm-11 1L8.5 8.5l.94-2.06 2.06-.94-2.06-.94L8.5 2.5l-.94 2.06-2.06.94zm10 10l.94 2.06.94-2.06 2.06-.94-2.06-.94-.94-2.06-.94 2.06-2.06.94z\"/><path d=\"M17.41 7.96l-1.37-1.37c-.4-.4-.92-.59-1.43-.59-.52 0-1.04.2-1.43.59L10.3 9.45l-7.72 7.72c-.78.78-.78 2.05 0 2.83L4 21.41c.39.39.9.59 1.41.59.51 0 1.02-.2 1.41-.59l7.78-7.78 2.81-2.81c.8-.78.8-2.07 0-2.86zM5.41 20L4 18.59l7.72-7.72 1.47 1.35L5.41 20z\"/>\n",
              "  </svg>\n",
              "      </button>\n",
              "      \n",
              "  <style>\n",
              "    .colab-df-container {\n",
              "      display:flex;\n",
              "      flex-wrap:wrap;\n",
              "      gap: 12px;\n",
              "    }\n",
              "\n",
              "    .colab-df-convert {\n",
              "      background-color: #E8F0FE;\n",
              "      border: none;\n",
              "      border-radius: 50%;\n",
              "      cursor: pointer;\n",
              "      display: none;\n",
              "      fill: #1967D2;\n",
              "      height: 32px;\n",
              "      padding: 0 0 0 0;\n",
              "      width: 32px;\n",
              "    }\n",
              "\n",
              "    .colab-df-convert:hover {\n",
              "      background-color: #E2EBFA;\n",
              "      box-shadow: 0px 1px 2px rgba(60, 64, 67, 0.3), 0px 1px 3px 1px rgba(60, 64, 67, 0.15);\n",
              "      fill: #174EA6;\n",
              "    }\n",
              "\n",
              "    [theme=dark] .colab-df-convert {\n",
              "      background-color: #3B4455;\n",
              "      fill: #D2E3FC;\n",
              "    }\n",
              "\n",
              "    [theme=dark] .colab-df-convert:hover {\n",
              "      background-color: #434B5C;\n",
              "      box-shadow: 0px 1px 3px 1px rgba(0, 0, 0, 0.15);\n",
              "      filter: drop-shadow(0px 1px 2px rgba(0, 0, 0, 0.3));\n",
              "      fill: #FFFFFF;\n",
              "    }\n",
              "  </style>\n",
              "\n",
              "      <script>\n",
              "        const buttonEl =\n",
              "          document.querySelector('#df-109da8cb-f1a9-40cf-bdcc-12774eb12bca button.colab-df-convert');\n",
              "        buttonEl.style.display =\n",
              "          google.colab.kernel.accessAllowed ? 'block' : 'none';\n",
              "\n",
              "        async function convertToInteractive(key) {\n",
              "          const element = document.querySelector('#df-109da8cb-f1a9-40cf-bdcc-12774eb12bca');\n",
              "          const dataTable =\n",
              "            await google.colab.kernel.invokeFunction('convertToInteractive',\n",
              "                                                     [key], {});\n",
              "          if (!dataTable) return;\n",
              "\n",
              "          const docLinkHtml = 'Like what you see? Visit the ' +\n",
              "            '<a target=\"_blank\" href=https://colab.research.google.com/notebooks/data_table.ipynb>data table notebook</a>'\n",
              "            + ' to learn more about interactive tables.';\n",
              "          element.innerHTML = '';\n",
              "          dataTable['output_type'] = 'display_data';\n",
              "          await google.colab.output.renderOutput(dataTable, element);\n",
              "          const docLink = document.createElement('div');\n",
              "          docLink.innerHTML = docLinkHtml;\n",
              "          element.appendChild(docLink);\n",
              "        }\n",
              "      </script>\n",
              "    </div>\n",
              "  </div>\n",
              "  "
            ]
          },
          "metadata": {},
          "execution_count": 22
        }
      ]
    },
    {
      "cell_type": "markdown",
      "source": [
        "Fechas, con el formato AAAA-mm-dd"
      ],
      "metadata": {
        "id": "51kB5c9QvNH7"
      }
    },
    {
      "cell_type": "code",
      "source": [
        "movies_final['release_date'] = pd.to_datetime(movies_final['release_date'])\n",
        "movies_final['release_date'] = movies_final['release_date'].dt.strftime('%Y-%m-%d')\n"
      ],
      "metadata": {
        "id": "5qn1PJwPvUv0"
      },
      "execution_count": 23,
      "outputs": []
    },
    {
      "cell_type": "code",
      "source": [
        "movies_final.info()"
      ],
      "metadata": {
        "colab": {
          "base_uri": "https://localhost:8080/"
        },
        "id": "xzH2uZIVweTl",
        "outputId": "65a08e56-d418-4982-d698-67eb4a40780d"
      },
      "execution_count": 24,
      "outputs": [
        {
          "output_type": "stream",
          "name": "stdout",
          "text": [
            "<class 'pandas.core.frame.DataFrame'>\n",
            "Int64Index: 45376 entries, 0 to 45465\n",
            "Data columns (total 19 columns):\n",
            " #   Column                 Non-Null Count  Dtype  \n",
            "---  ------                 --------------  -----  \n",
            " 0   belongs_to_collection  4488 non-null   object \n",
            " 1   budget                 45376 non-null  object \n",
            " 2   genres                 45376 non-null  object \n",
            " 3   id                     45376 non-null  object \n",
            " 4   original_language      45365 non-null  object \n",
            " 5   overview               44435 non-null  object \n",
            " 6   popularity             45376 non-null  object \n",
            " 7   production_companies   45376 non-null  object \n",
            " 8   production_countries   45376 non-null  object \n",
            " 9   release_date           45376 non-null  object \n",
            " 10  revenue                45376 non-null  float64\n",
            " 11  runtime                45130 non-null  float64\n",
            " 12  spoken_languages       45376 non-null  object \n",
            " 13  status                 45296 non-null  object \n",
            " 14  tagline                20398 non-null  object \n",
            " 15  title                  45376 non-null  object \n",
            " 16  vote_average           45376 non-null  float64\n",
            " 17  vote_count             45376 non-null  float64\n",
            " 18  return                 45376 non-null  float64\n",
            "dtypes: float64(5), object(14)\n",
            "memory usage: 6.9+ MB\n"
          ]
        }
      ]
    },
    {
      "cell_type": "markdown",
      "source": [
        " Crear la columna release_year donde se extraera el año de la fecha de estreno"
      ],
      "metadata": {
        "id": "rqsF8uhKvwt3"
      }
    },
    {
      "cell_type": "code",
      "source": [
        "movies_final['release_date'] = pd.to_datetime(movies_final['release_date'])\n",
        "movies_final['release_year'] = movies_final['release_date'].dt.year"
      ],
      "metadata": {
        "id": "KG_QgX-mv07d"
      },
      "execution_count": 25,
      "outputs": []
    },
    {
      "cell_type": "markdown",
      "source": [
        "Desanidar Datos"
      ],
      "metadata": {
        "id": "_p6jdMoRbwJi"
      }
    },
    {
      "cell_type": "markdown",
      "source": [
        "belongs_to_collection\n"
      ],
      "metadata": {
        "id": "W2MGM_b5Hm2H"
      }
    },
    {
      "cell_type": "code",
      "source": [
        "# Se extrae name de belongs_to_collection\n",
        "# movies_final[['collection_id', 'collection_name', 'collection_poster_path', 'collection_backdrop_path']] = movies_final['belongs_to_collection'].str.extract(r\"{'id': (\\d+), 'name': '(.+?)', 'poster_path': '(.+?)', 'backdrop_path': '(.+?)'}\")\n",
        "movies_final['collection_name'] = movies_final['belongs_to_collection'].str.extract(\"'name': '([^']*)'\")"
      ],
      "metadata": {
        "id": "blK8LxccENpX"
      },
      "execution_count": 26,
      "outputs": []
    },
    {
      "cell_type": "code",
      "source": [
        "movies_final.head(1)"
      ],
      "metadata": {
        "colab": {
          "base_uri": "https://localhost:8080/",
          "height": 261
        },
        "id": "3Yj3gJisEvdQ",
        "outputId": "50403ad6-0b39-4da3-bde6-56b2e150b92e"
      },
      "execution_count": 27,
      "outputs": [
        {
          "output_type": "execute_result",
          "data": {
            "text/plain": [
              "                               belongs_to_collection      budget  \\\n",
              "0  {'id': 10194, 'name': 'Toy Story Collection', ...  30000000.0   \n",
              "\n",
              "                                              genres   id original_language  \\\n",
              "0  [{'id': 16, 'name': 'Animation'}, {'id': 35, '...  862                en   \n",
              "\n",
              "                                            overview popularity  \\\n",
              "0  Led by Woody, Andy's toys live happily in his ...  21.946943   \n",
              "\n",
              "                             production_companies  \\\n",
              "0  [{'name': 'Pixar Animation Studios', 'id': 3}]   \n",
              "\n",
              "                                production_countries release_date  ...  \\\n",
              "0  [{'iso_3166_1': 'US', 'name': 'United States o...   1995-10-30  ...   \n",
              "\n",
              "   runtime                          spoken_languages    status tagline  \\\n",
              "0     81.0  [{'iso_639_1': 'en', 'name': 'English'}]  Released     NaN   \n",
              "\n",
              "       title vote_average  vote_count     return  release_year  \\\n",
              "0  Toy Story          7.7      5415.0  12.451801          1995   \n",
              "\n",
              "        collection_name  \n",
              "0  Toy Story Collection  \n",
              "\n",
              "[1 rows x 21 columns]"
            ],
            "text/html": [
              "\n",
              "  <div id=\"df-48031309-ffa7-4f7e-9504-2c9f9f041977\">\n",
              "    <div class=\"colab-df-container\">\n",
              "      <div>\n",
              "<style scoped>\n",
              "    .dataframe tbody tr th:only-of-type {\n",
              "        vertical-align: middle;\n",
              "    }\n",
              "\n",
              "    .dataframe tbody tr th {\n",
              "        vertical-align: top;\n",
              "    }\n",
              "\n",
              "    .dataframe thead th {\n",
              "        text-align: right;\n",
              "    }\n",
              "</style>\n",
              "<table border=\"1\" class=\"dataframe\">\n",
              "  <thead>\n",
              "    <tr style=\"text-align: right;\">\n",
              "      <th></th>\n",
              "      <th>belongs_to_collection</th>\n",
              "      <th>budget</th>\n",
              "      <th>genres</th>\n",
              "      <th>id</th>\n",
              "      <th>original_language</th>\n",
              "      <th>overview</th>\n",
              "      <th>popularity</th>\n",
              "      <th>production_companies</th>\n",
              "      <th>production_countries</th>\n",
              "      <th>release_date</th>\n",
              "      <th>...</th>\n",
              "      <th>runtime</th>\n",
              "      <th>spoken_languages</th>\n",
              "      <th>status</th>\n",
              "      <th>tagline</th>\n",
              "      <th>title</th>\n",
              "      <th>vote_average</th>\n",
              "      <th>vote_count</th>\n",
              "      <th>return</th>\n",
              "      <th>release_year</th>\n",
              "      <th>collection_name</th>\n",
              "    </tr>\n",
              "  </thead>\n",
              "  <tbody>\n",
              "    <tr>\n",
              "      <th>0</th>\n",
              "      <td>{'id': 10194, 'name': 'Toy Story Collection', ...</td>\n",
              "      <td>30000000.0</td>\n",
              "      <td>[{'id': 16, 'name': 'Animation'}, {'id': 35, '...</td>\n",
              "      <td>862</td>\n",
              "      <td>en</td>\n",
              "      <td>Led by Woody, Andy's toys live happily in his ...</td>\n",
              "      <td>21.946943</td>\n",
              "      <td>[{'name': 'Pixar Animation Studios', 'id': 3}]</td>\n",
              "      <td>[{'iso_3166_1': 'US', 'name': 'United States o...</td>\n",
              "      <td>1995-10-30</td>\n",
              "      <td>...</td>\n",
              "      <td>81.0</td>\n",
              "      <td>[{'iso_639_1': 'en', 'name': 'English'}]</td>\n",
              "      <td>Released</td>\n",
              "      <td>NaN</td>\n",
              "      <td>Toy Story</td>\n",
              "      <td>7.7</td>\n",
              "      <td>5415.0</td>\n",
              "      <td>12.451801</td>\n",
              "      <td>1995</td>\n",
              "      <td>Toy Story Collection</td>\n",
              "    </tr>\n",
              "  </tbody>\n",
              "</table>\n",
              "<p>1 rows × 21 columns</p>\n",
              "</div>\n",
              "      <button class=\"colab-df-convert\" onclick=\"convertToInteractive('df-48031309-ffa7-4f7e-9504-2c9f9f041977')\"\n",
              "              title=\"Convert this dataframe to an interactive table.\"\n",
              "              style=\"display:none;\">\n",
              "        \n",
              "  <svg xmlns=\"http://www.w3.org/2000/svg\" height=\"24px\"viewBox=\"0 0 24 24\"\n",
              "       width=\"24px\">\n",
              "    <path d=\"M0 0h24v24H0V0z\" fill=\"none\"/>\n",
              "    <path d=\"M18.56 5.44l.94 2.06.94-2.06 2.06-.94-2.06-.94-.94-2.06-.94 2.06-2.06.94zm-11 1L8.5 8.5l.94-2.06 2.06-.94-2.06-.94L8.5 2.5l-.94 2.06-2.06.94zm10 10l.94 2.06.94-2.06 2.06-.94-2.06-.94-.94-2.06-.94 2.06-2.06.94z\"/><path d=\"M17.41 7.96l-1.37-1.37c-.4-.4-.92-.59-1.43-.59-.52 0-1.04.2-1.43.59L10.3 9.45l-7.72 7.72c-.78.78-.78 2.05 0 2.83L4 21.41c.39.39.9.59 1.41.59.51 0 1.02-.2 1.41-.59l7.78-7.78 2.81-2.81c.8-.78.8-2.07 0-2.86zM5.41 20L4 18.59l7.72-7.72 1.47 1.35L5.41 20z\"/>\n",
              "  </svg>\n",
              "      </button>\n",
              "      \n",
              "  <style>\n",
              "    .colab-df-container {\n",
              "      display:flex;\n",
              "      flex-wrap:wrap;\n",
              "      gap: 12px;\n",
              "    }\n",
              "\n",
              "    .colab-df-convert {\n",
              "      background-color: #E8F0FE;\n",
              "      border: none;\n",
              "      border-radius: 50%;\n",
              "      cursor: pointer;\n",
              "      display: none;\n",
              "      fill: #1967D2;\n",
              "      height: 32px;\n",
              "      padding: 0 0 0 0;\n",
              "      width: 32px;\n",
              "    }\n",
              "\n",
              "    .colab-df-convert:hover {\n",
              "      background-color: #E2EBFA;\n",
              "      box-shadow: 0px 1px 2px rgba(60, 64, 67, 0.3), 0px 1px 3px 1px rgba(60, 64, 67, 0.15);\n",
              "      fill: #174EA6;\n",
              "    }\n",
              "\n",
              "    [theme=dark] .colab-df-convert {\n",
              "      background-color: #3B4455;\n",
              "      fill: #D2E3FC;\n",
              "    }\n",
              "\n",
              "    [theme=dark] .colab-df-convert:hover {\n",
              "      background-color: #434B5C;\n",
              "      box-shadow: 0px 1px 3px 1px rgba(0, 0, 0, 0.15);\n",
              "      filter: drop-shadow(0px 1px 2px rgba(0, 0, 0, 0.3));\n",
              "      fill: #FFFFFF;\n",
              "    }\n",
              "  </style>\n",
              "\n",
              "      <script>\n",
              "        const buttonEl =\n",
              "          document.querySelector('#df-48031309-ffa7-4f7e-9504-2c9f9f041977 button.colab-df-convert');\n",
              "        buttonEl.style.display =\n",
              "          google.colab.kernel.accessAllowed ? 'block' : 'none';\n",
              "\n",
              "        async function convertToInteractive(key) {\n",
              "          const element = document.querySelector('#df-48031309-ffa7-4f7e-9504-2c9f9f041977');\n",
              "          const dataTable =\n",
              "            await google.colab.kernel.invokeFunction('convertToInteractive',\n",
              "                                                     [key], {});\n",
              "          if (!dataTable) return;\n",
              "\n",
              "          const docLinkHtml = 'Like what you see? Visit the ' +\n",
              "            '<a target=\"_blank\" href=https://colab.research.google.com/notebooks/data_table.ipynb>data table notebook</a>'\n",
              "            + ' to learn more about interactive tables.';\n",
              "          element.innerHTML = '';\n",
              "          dataTable['output_type'] = 'display_data';\n",
              "          await google.colab.output.renderOutput(dataTable, element);\n",
              "          const docLink = document.createElement('div');\n",
              "          docLink.innerHTML = docLinkHtml;\n",
              "          element.appendChild(docLink);\n",
              "        }\n",
              "      </script>\n",
              "    </div>\n",
              "  </div>\n",
              "  "
            ]
          },
          "metadata": {},
          "execution_count": 27
        }
      ]
    },
    {
      "cell_type": "code",
      "source": [
        "# Eliminamos belongs_to_collection\n",
        "movies_final = movies_final.drop('belongs_to_collection', axis=1)"
      ],
      "metadata": {
        "id": "g-pXUbEmNlt1"
      },
      "execution_count": 28,
      "outputs": []
    },
    {
      "cell_type": "markdown",
      "source": [
        "genres"
      ],
      "metadata": {
        "id": "qHNE3fnNHsZw"
      }
    },
    {
      "cell_type": "code",
      "source": [
        "movies_final.loc[1, 'genres']"
      ],
      "metadata": {
        "colab": {
          "base_uri": "https://localhost:8080/",
          "height": 35
        },
        "id": "OVdiy6EfHlrg",
        "outputId": "e364cbb3-5156-41a9-a4d9-4cac850d5c65"
      },
      "execution_count": 29,
      "outputs": [
        {
          "output_type": "execute_result",
          "data": {
            "text/plain": [
              "\"[{'id': 12, 'name': 'Adventure'}, {'id': 14, 'name': 'Fantasy'}, {'id': 10751, 'name': 'Family'}]\""
            ],
            "application/vnd.google.colaboratory.intrinsic+json": {
              "type": "string"
            }
          },
          "metadata": {},
          "execution_count": 29
        }
      ]
    },
    {
      "cell_type": "code",
      "source": [
        "import ast\n",
        "# Convertimos la cadena en una lista de diccionarios\n",
        "movies_final['genres'] = movies_final['genres'].apply(ast.literal_eval)"
      ],
      "metadata": {
        "id": "_-NMexBdKgQg"
      },
      "execution_count": 30,
      "outputs": []
    },
    {
      "cell_type": "code",
      "source": [
        "# Función para extraer los nombres de los géneros\n",
        "def extract_names(genres_list):\n",
        "    genres_names = [genre['name'] for genre in genres_list]\n",
        "    genres_names = ', '.join(genres_names)\n",
        "    return genres_names\n",
        "\n",
        "# Aplicamos la función a cada elemento de la columna 'genres'\n",
        "movies_final['genres_name'] = movies_final['genres'].apply(extract_names)"
      ],
      "metadata": {
        "id": "a0nvYZhUR478"
      },
      "execution_count": 31,
      "outputs": []
    },
    {
      "cell_type": "code",
      "source": [
        "movies_final.head(1)"
      ],
      "metadata": {
        "colab": {
          "base_uri": "https://localhost:8080/",
          "height": 261
        },
        "id": "_upJJhOyTlFL",
        "outputId": "4b0cfff1-fbe1-4bc4-e9aa-eff5e3e6cbf8"
      },
      "execution_count": 32,
      "outputs": [
        {
          "output_type": "execute_result",
          "data": {
            "text/plain": [
              "       budget                                             genres   id  \\\n",
              "0  30000000.0  [{'id': 16, 'name': 'Animation'}, {'id': 35, '...  862   \n",
              "\n",
              "  original_language                                           overview  \\\n",
              "0                en  Led by Woody, Andy's toys live happily in his ...   \n",
              "\n",
              "  popularity                            production_companies  \\\n",
              "0  21.946943  [{'name': 'Pixar Animation Studios', 'id': 3}]   \n",
              "\n",
              "                                production_countries release_date  \\\n",
              "0  [{'iso_3166_1': 'US', 'name': 'United States o...   1995-10-30   \n",
              "\n",
              "       revenue  ...                          spoken_languages    status  \\\n",
              "0  373554033.0  ...  [{'iso_639_1': 'en', 'name': 'English'}]  Released   \n",
              "\n",
              "  tagline      title vote_average  vote_count     return  release_year  \\\n",
              "0     NaN  Toy Story          7.7      5415.0  12.451801          1995   \n",
              "\n",
              "        collection_name                genres_name  \n",
              "0  Toy Story Collection  Animation, Comedy, Family  \n",
              "\n",
              "[1 rows x 21 columns]"
            ],
            "text/html": [
              "\n",
              "  <div id=\"df-298cb008-d342-40b8-80dc-33fd888974fe\">\n",
              "    <div class=\"colab-df-container\">\n",
              "      <div>\n",
              "<style scoped>\n",
              "    .dataframe tbody tr th:only-of-type {\n",
              "        vertical-align: middle;\n",
              "    }\n",
              "\n",
              "    .dataframe tbody tr th {\n",
              "        vertical-align: top;\n",
              "    }\n",
              "\n",
              "    .dataframe thead th {\n",
              "        text-align: right;\n",
              "    }\n",
              "</style>\n",
              "<table border=\"1\" class=\"dataframe\">\n",
              "  <thead>\n",
              "    <tr style=\"text-align: right;\">\n",
              "      <th></th>\n",
              "      <th>budget</th>\n",
              "      <th>genres</th>\n",
              "      <th>id</th>\n",
              "      <th>original_language</th>\n",
              "      <th>overview</th>\n",
              "      <th>popularity</th>\n",
              "      <th>production_companies</th>\n",
              "      <th>production_countries</th>\n",
              "      <th>release_date</th>\n",
              "      <th>revenue</th>\n",
              "      <th>...</th>\n",
              "      <th>spoken_languages</th>\n",
              "      <th>status</th>\n",
              "      <th>tagline</th>\n",
              "      <th>title</th>\n",
              "      <th>vote_average</th>\n",
              "      <th>vote_count</th>\n",
              "      <th>return</th>\n",
              "      <th>release_year</th>\n",
              "      <th>collection_name</th>\n",
              "      <th>genres_name</th>\n",
              "    </tr>\n",
              "  </thead>\n",
              "  <tbody>\n",
              "    <tr>\n",
              "      <th>0</th>\n",
              "      <td>30000000.0</td>\n",
              "      <td>[{'id': 16, 'name': 'Animation'}, {'id': 35, '...</td>\n",
              "      <td>862</td>\n",
              "      <td>en</td>\n",
              "      <td>Led by Woody, Andy's toys live happily in his ...</td>\n",
              "      <td>21.946943</td>\n",
              "      <td>[{'name': 'Pixar Animation Studios', 'id': 3}]</td>\n",
              "      <td>[{'iso_3166_1': 'US', 'name': 'United States o...</td>\n",
              "      <td>1995-10-30</td>\n",
              "      <td>373554033.0</td>\n",
              "      <td>...</td>\n",
              "      <td>[{'iso_639_1': 'en', 'name': 'English'}]</td>\n",
              "      <td>Released</td>\n",
              "      <td>NaN</td>\n",
              "      <td>Toy Story</td>\n",
              "      <td>7.7</td>\n",
              "      <td>5415.0</td>\n",
              "      <td>12.451801</td>\n",
              "      <td>1995</td>\n",
              "      <td>Toy Story Collection</td>\n",
              "      <td>Animation, Comedy, Family</td>\n",
              "    </tr>\n",
              "  </tbody>\n",
              "</table>\n",
              "<p>1 rows × 21 columns</p>\n",
              "</div>\n",
              "      <button class=\"colab-df-convert\" onclick=\"convertToInteractive('df-298cb008-d342-40b8-80dc-33fd888974fe')\"\n",
              "              title=\"Convert this dataframe to an interactive table.\"\n",
              "              style=\"display:none;\">\n",
              "        \n",
              "  <svg xmlns=\"http://www.w3.org/2000/svg\" height=\"24px\"viewBox=\"0 0 24 24\"\n",
              "       width=\"24px\">\n",
              "    <path d=\"M0 0h24v24H0V0z\" fill=\"none\"/>\n",
              "    <path d=\"M18.56 5.44l.94 2.06.94-2.06 2.06-.94-2.06-.94-.94-2.06-.94 2.06-2.06.94zm-11 1L8.5 8.5l.94-2.06 2.06-.94-2.06-.94L8.5 2.5l-.94 2.06-2.06.94zm10 10l.94 2.06.94-2.06 2.06-.94-2.06-.94-.94-2.06-.94 2.06-2.06.94z\"/><path d=\"M17.41 7.96l-1.37-1.37c-.4-.4-.92-.59-1.43-.59-.52 0-1.04.2-1.43.59L10.3 9.45l-7.72 7.72c-.78.78-.78 2.05 0 2.83L4 21.41c.39.39.9.59 1.41.59.51 0 1.02-.2 1.41-.59l7.78-7.78 2.81-2.81c.8-.78.8-2.07 0-2.86zM5.41 20L4 18.59l7.72-7.72 1.47 1.35L5.41 20z\"/>\n",
              "  </svg>\n",
              "      </button>\n",
              "      \n",
              "  <style>\n",
              "    .colab-df-container {\n",
              "      display:flex;\n",
              "      flex-wrap:wrap;\n",
              "      gap: 12px;\n",
              "    }\n",
              "\n",
              "    .colab-df-convert {\n",
              "      background-color: #E8F0FE;\n",
              "      border: none;\n",
              "      border-radius: 50%;\n",
              "      cursor: pointer;\n",
              "      display: none;\n",
              "      fill: #1967D2;\n",
              "      height: 32px;\n",
              "      padding: 0 0 0 0;\n",
              "      width: 32px;\n",
              "    }\n",
              "\n",
              "    .colab-df-convert:hover {\n",
              "      background-color: #E2EBFA;\n",
              "      box-shadow: 0px 1px 2px rgba(60, 64, 67, 0.3), 0px 1px 3px 1px rgba(60, 64, 67, 0.15);\n",
              "      fill: #174EA6;\n",
              "    }\n",
              "\n",
              "    [theme=dark] .colab-df-convert {\n",
              "      background-color: #3B4455;\n",
              "      fill: #D2E3FC;\n",
              "    }\n",
              "\n",
              "    [theme=dark] .colab-df-convert:hover {\n",
              "      background-color: #434B5C;\n",
              "      box-shadow: 0px 1px 3px 1px rgba(0, 0, 0, 0.15);\n",
              "      filter: drop-shadow(0px 1px 2px rgba(0, 0, 0, 0.3));\n",
              "      fill: #FFFFFF;\n",
              "    }\n",
              "  </style>\n",
              "\n",
              "      <script>\n",
              "        const buttonEl =\n",
              "          document.querySelector('#df-298cb008-d342-40b8-80dc-33fd888974fe button.colab-df-convert');\n",
              "        buttonEl.style.display =\n",
              "          google.colab.kernel.accessAllowed ? 'block' : 'none';\n",
              "\n",
              "        async function convertToInteractive(key) {\n",
              "          const element = document.querySelector('#df-298cb008-d342-40b8-80dc-33fd888974fe');\n",
              "          const dataTable =\n",
              "            await google.colab.kernel.invokeFunction('convertToInteractive',\n",
              "                                                     [key], {});\n",
              "          if (!dataTable) return;\n",
              "\n",
              "          const docLinkHtml = 'Like what you see? Visit the ' +\n",
              "            '<a target=\"_blank\" href=https://colab.research.google.com/notebooks/data_table.ipynb>data table notebook</a>'\n",
              "            + ' to learn more about interactive tables.';\n",
              "          element.innerHTML = '';\n",
              "          dataTable['output_type'] = 'display_data';\n",
              "          await google.colab.output.renderOutput(dataTable, element);\n",
              "          const docLink = document.createElement('div');\n",
              "          docLink.innerHTML = docLinkHtml;\n",
              "          element.appendChild(docLink);\n",
              "        }\n",
              "      </script>\n",
              "    </div>\n",
              "  </div>\n",
              "  "
            ]
          },
          "metadata": {},
          "execution_count": 32
        }
      ]
    },
    {
      "cell_type": "code",
      "source": [
        "# Eliminamos genres\n",
        "movies_final = movies_final.drop('genres', axis=1)"
      ],
      "metadata": {
        "id": "kluh9MAyUzzD"
      },
      "execution_count": 33,
      "outputs": []
    },
    {
      "cell_type": "markdown",
      "source": [
        "production_companies"
      ],
      "metadata": {
        "id": "6ykgNriPVJHk"
      }
    },
    {
      "cell_type": "code",
      "source": [
        "movies_final.loc[3, 'production_companies']"
      ],
      "metadata": {
        "colab": {
          "base_uri": "https://localhost:8080/",
          "height": 35
        },
        "id": "8-j2BGC4Uzwq",
        "outputId": "41db908d-f541-4377-821d-05640301264a"
      },
      "execution_count": 34,
      "outputs": [
        {
          "output_type": "execute_result",
          "data": {
            "text/plain": [
              "\"[{'name': 'Twentieth Century Fox Film Corporation', 'id': 306}]\""
            ],
            "application/vnd.google.colaboratory.intrinsic+json": {
              "type": "string"
            }
          },
          "metadata": {},
          "execution_count": 34
        }
      ]
    },
    {
      "cell_type": "code",
      "source": [
        "# Convertimos la cadena en una lista de diccionarios\n",
        "movies_final['production_companies'] = movies_final['production_companies'].apply(ast.literal_eval)"
      ],
      "metadata": {
        "id": "QjQ7EHEJXKEr"
      },
      "execution_count": 35,
      "outputs": []
    },
    {
      "cell_type": "code",
      "source": [
        "# Aplicamos la función extract_names a cada elemento de la columna 'production_companies'\n",
        "movies_final['production_companies_names'] = movies_final['production_companies'].apply(extract_names)"
      ],
      "metadata": {
        "id": "fOGSOwHoVIrL"
      },
      "execution_count": 36,
      "outputs": []
    },
    {
      "cell_type": "code",
      "source": [
        "movies_final.loc[3, 'production_companies_names']"
      ],
      "metadata": {
        "colab": {
          "base_uri": "https://localhost:8080/",
          "height": 35
        },
        "id": "Or4mabaNXeeD",
        "outputId": "718df928-d19a-460a-a597-69317624f79f"
      },
      "execution_count": 37,
      "outputs": [
        {
          "output_type": "execute_result",
          "data": {
            "text/plain": [
              "'Twentieth Century Fox Film Corporation'"
            ],
            "application/vnd.google.colaboratory.intrinsic+json": {
              "type": "string"
            }
          },
          "metadata": {},
          "execution_count": 37
        }
      ]
    },
    {
      "cell_type": "code",
      "source": [
        "# Eliminamos production_companies\n",
        "movies_final = movies_final.drop('production_companies', axis=1)"
      ],
      "metadata": {
        "id": "18e_OuzDY7pa"
      },
      "execution_count": 38,
      "outputs": []
    },
    {
      "cell_type": "markdown",
      "source": [
        "production_countries"
      ],
      "metadata": {
        "id": "JhFZR0c-ZKj6"
      }
    },
    {
      "cell_type": "code",
      "source": [
        "movies_final.loc[4, 'production_countries']"
      ],
      "metadata": {
        "colab": {
          "base_uri": "https://localhost:8080/",
          "height": 35
        },
        "id": "b8homcFRZMub",
        "outputId": "ac18b032-9fe6-4f49-8be6-264744cba342"
      },
      "execution_count": 39,
      "outputs": [
        {
          "output_type": "execute_result",
          "data": {
            "text/plain": [
              "\"[{'iso_3166_1': 'US', 'name': 'United States of America'}]\""
            ],
            "application/vnd.google.colaboratory.intrinsic+json": {
              "type": "string"
            }
          },
          "metadata": {},
          "execution_count": 39
        }
      ]
    },
    {
      "cell_type": "code",
      "source": [
        "# Convertimos la cadena en una lista de diccionarios\n",
        "movies_final['production_countries'] = movies_final['production_countries'].apply(ast.literal_eval)"
      ],
      "metadata": {
        "id": "x3S4eIV6ZmUT"
      },
      "execution_count": 40,
      "outputs": []
    },
    {
      "cell_type": "code",
      "source": [
        "# Aplicamos la función extract_names a cada elemento de la columna 'production_countries'\n",
        "movies_final['production_country'] = movies_final['production_countries'].apply(extract_names)"
      ],
      "metadata": {
        "id": "2yKwetVSb2Rr"
      },
      "execution_count": 41,
      "outputs": []
    },
    {
      "cell_type": "code",
      "source": [
        "# Eliminamos 'production_countries'\n",
        "movies_final = movies_final.drop('production_countries', axis=1)"
      ],
      "metadata": {
        "id": "fM9-k3LocEVi"
      },
      "execution_count": 42,
      "outputs": []
    },
    {
      "cell_type": "markdown",
      "source": [
        "spoken_languages"
      ],
      "metadata": {
        "id": "0BroCp-ucg_6"
      }
    },
    {
      "cell_type": "code",
      "source": [
        "movies_final.loc[3, 'spoken_languages']"
      ],
      "metadata": {
        "colab": {
          "base_uri": "https://localhost:8080/",
          "height": 35
        },
        "id": "xvKck_4YcjFL",
        "outputId": "22ab4597-2ab4-40df-97cd-7a5ae97e903c"
      },
      "execution_count": 43,
      "outputs": [
        {
          "output_type": "execute_result",
          "data": {
            "text/plain": [
              "\"[{'iso_639_1': 'en', 'name': 'English'}]\""
            ],
            "application/vnd.google.colaboratory.intrinsic+json": {
              "type": "string"
            }
          },
          "metadata": {},
          "execution_count": 43
        }
      ]
    },
    {
      "cell_type": "code",
      "source": [
        "# Convertimos la cadena en una lista de diccionarios\n",
        "movies_final['spoken_languages'] = movies_final['spoken_languages'].apply(ast.literal_eval)"
      ],
      "metadata": {
        "id": "N-1s2VV1civy"
      },
      "execution_count": 44,
      "outputs": []
    },
    {
      "cell_type": "code",
      "source": [
        "# Aplicamos la función extract_names a cada elemento de la columna 'spoken_languages'\n",
        "movies_final['spoken_languages_names'] = movies_final['spoken_languages'].apply(extract_names)"
      ],
      "metadata": {
        "id": "uMGf9_YMdAjK"
      },
      "execution_count": 45,
      "outputs": []
    },
    {
      "cell_type": "code",
      "source": [
        "movies_final.loc[3, 'spoken_languages_names']"
      ],
      "metadata": {
        "colab": {
          "base_uri": "https://localhost:8080/",
          "height": 35
        },
        "id": "kxQhjKoOdVcC",
        "outputId": "563b2078-06aa-49a4-cc7d-5c8e87713969"
      },
      "execution_count": 46,
      "outputs": [
        {
          "output_type": "execute_result",
          "data": {
            "text/plain": [
              "'English'"
            ],
            "application/vnd.google.colaboratory.intrinsic+json": {
              "type": "string"
            }
          },
          "metadata": {},
          "execution_count": 46
        }
      ]
    },
    {
      "cell_type": "code",
      "source": [
        "# Eliminamos spoken_languages\n",
        "movies_final = movies_final.drop('spoken_languages', axis=1)"
      ],
      "metadata": {
        "id": "K0QqhFkZeLdM"
      },
      "execution_count": 47,
      "outputs": []
    },
    {
      "cell_type": "code",
      "source": [
        "movies_final.head(1)"
      ],
      "metadata": {
        "colab": {
          "base_uri": "https://localhost:8080/",
          "height": 231
        },
        "id": "d0vrXi33Uztz",
        "outputId": "3d34c2bd-6f4e-488d-b94c-25ed84f50ae2"
      },
      "execution_count": 48,
      "outputs": [
        {
          "output_type": "execute_result",
          "data": {
            "text/plain": [
              "       budget   id original_language  \\\n",
              "0  30000000.0  862                en   \n",
              "\n",
              "                                            overview popularity release_date  \\\n",
              "0  Led by Woody, Andy's toys live happily in his ...  21.946943   1995-10-30   \n",
              "\n",
              "       revenue  runtime    status tagline      title  vote_average  \\\n",
              "0  373554033.0     81.0  Released     NaN  Toy Story           7.7   \n",
              "\n",
              "   vote_count     return  release_year       collection_name  \\\n",
              "0      5415.0  12.451801          1995  Toy Story Collection   \n",
              "\n",
              "                 genres_name production_companies_names  \\\n",
              "0  Animation, Comedy, Family    Pixar Animation Studios   \n",
              "\n",
              "         production_country spoken_languages_names  \n",
              "0  United States of America                English  "
            ],
            "text/html": [
              "\n",
              "  <div id=\"df-2611f649-c121-4184-83e2-1b604578338d\">\n",
              "    <div class=\"colab-df-container\">\n",
              "      <div>\n",
              "<style scoped>\n",
              "    .dataframe tbody tr th:only-of-type {\n",
              "        vertical-align: middle;\n",
              "    }\n",
              "\n",
              "    .dataframe tbody tr th {\n",
              "        vertical-align: top;\n",
              "    }\n",
              "\n",
              "    .dataframe thead th {\n",
              "        text-align: right;\n",
              "    }\n",
              "</style>\n",
              "<table border=\"1\" class=\"dataframe\">\n",
              "  <thead>\n",
              "    <tr style=\"text-align: right;\">\n",
              "      <th></th>\n",
              "      <th>budget</th>\n",
              "      <th>id</th>\n",
              "      <th>original_language</th>\n",
              "      <th>overview</th>\n",
              "      <th>popularity</th>\n",
              "      <th>release_date</th>\n",
              "      <th>revenue</th>\n",
              "      <th>runtime</th>\n",
              "      <th>status</th>\n",
              "      <th>tagline</th>\n",
              "      <th>title</th>\n",
              "      <th>vote_average</th>\n",
              "      <th>vote_count</th>\n",
              "      <th>return</th>\n",
              "      <th>release_year</th>\n",
              "      <th>collection_name</th>\n",
              "      <th>genres_name</th>\n",
              "      <th>production_companies_names</th>\n",
              "      <th>production_country</th>\n",
              "      <th>spoken_languages_names</th>\n",
              "    </tr>\n",
              "  </thead>\n",
              "  <tbody>\n",
              "    <tr>\n",
              "      <th>0</th>\n",
              "      <td>30000000.0</td>\n",
              "      <td>862</td>\n",
              "      <td>en</td>\n",
              "      <td>Led by Woody, Andy's toys live happily in his ...</td>\n",
              "      <td>21.946943</td>\n",
              "      <td>1995-10-30</td>\n",
              "      <td>373554033.0</td>\n",
              "      <td>81.0</td>\n",
              "      <td>Released</td>\n",
              "      <td>NaN</td>\n",
              "      <td>Toy Story</td>\n",
              "      <td>7.7</td>\n",
              "      <td>5415.0</td>\n",
              "      <td>12.451801</td>\n",
              "      <td>1995</td>\n",
              "      <td>Toy Story Collection</td>\n",
              "      <td>Animation, Comedy, Family</td>\n",
              "      <td>Pixar Animation Studios</td>\n",
              "      <td>United States of America</td>\n",
              "      <td>English</td>\n",
              "    </tr>\n",
              "  </tbody>\n",
              "</table>\n",
              "</div>\n",
              "      <button class=\"colab-df-convert\" onclick=\"convertToInteractive('df-2611f649-c121-4184-83e2-1b604578338d')\"\n",
              "              title=\"Convert this dataframe to an interactive table.\"\n",
              "              style=\"display:none;\">\n",
              "        \n",
              "  <svg xmlns=\"http://www.w3.org/2000/svg\" height=\"24px\"viewBox=\"0 0 24 24\"\n",
              "       width=\"24px\">\n",
              "    <path d=\"M0 0h24v24H0V0z\" fill=\"none\"/>\n",
              "    <path d=\"M18.56 5.44l.94 2.06.94-2.06 2.06-.94-2.06-.94-.94-2.06-.94 2.06-2.06.94zm-11 1L8.5 8.5l.94-2.06 2.06-.94-2.06-.94L8.5 2.5l-.94 2.06-2.06.94zm10 10l.94 2.06.94-2.06 2.06-.94-2.06-.94-.94-2.06-.94 2.06-2.06.94z\"/><path d=\"M17.41 7.96l-1.37-1.37c-.4-.4-.92-.59-1.43-.59-.52 0-1.04.2-1.43.59L10.3 9.45l-7.72 7.72c-.78.78-.78 2.05 0 2.83L4 21.41c.39.39.9.59 1.41.59.51 0 1.02-.2 1.41-.59l7.78-7.78 2.81-2.81c.8-.78.8-2.07 0-2.86zM5.41 20L4 18.59l7.72-7.72 1.47 1.35L5.41 20z\"/>\n",
              "  </svg>\n",
              "      </button>\n",
              "      \n",
              "  <style>\n",
              "    .colab-df-container {\n",
              "      display:flex;\n",
              "      flex-wrap:wrap;\n",
              "      gap: 12px;\n",
              "    }\n",
              "\n",
              "    .colab-df-convert {\n",
              "      background-color: #E8F0FE;\n",
              "      border: none;\n",
              "      border-radius: 50%;\n",
              "      cursor: pointer;\n",
              "      display: none;\n",
              "      fill: #1967D2;\n",
              "      height: 32px;\n",
              "      padding: 0 0 0 0;\n",
              "      width: 32px;\n",
              "    }\n",
              "\n",
              "    .colab-df-convert:hover {\n",
              "      background-color: #E2EBFA;\n",
              "      box-shadow: 0px 1px 2px rgba(60, 64, 67, 0.3), 0px 1px 3px 1px rgba(60, 64, 67, 0.15);\n",
              "      fill: #174EA6;\n",
              "    }\n",
              "\n",
              "    [theme=dark] .colab-df-convert {\n",
              "      background-color: #3B4455;\n",
              "      fill: #D2E3FC;\n",
              "    }\n",
              "\n",
              "    [theme=dark] .colab-df-convert:hover {\n",
              "      background-color: #434B5C;\n",
              "      box-shadow: 0px 1px 3px 1px rgba(0, 0, 0, 0.15);\n",
              "      filter: drop-shadow(0px 1px 2px rgba(0, 0, 0, 0.3));\n",
              "      fill: #FFFFFF;\n",
              "    }\n",
              "  </style>\n",
              "\n",
              "      <script>\n",
              "        const buttonEl =\n",
              "          document.querySelector('#df-2611f649-c121-4184-83e2-1b604578338d button.colab-df-convert');\n",
              "        buttonEl.style.display =\n",
              "          google.colab.kernel.accessAllowed ? 'block' : 'none';\n",
              "\n",
              "        async function convertToInteractive(key) {\n",
              "          const element = document.querySelector('#df-2611f649-c121-4184-83e2-1b604578338d');\n",
              "          const dataTable =\n",
              "            await google.colab.kernel.invokeFunction('convertToInteractive',\n",
              "                                                     [key], {});\n",
              "          if (!dataTable) return;\n",
              "\n",
              "          const docLinkHtml = 'Like what you see? Visit the ' +\n",
              "            '<a target=\"_blank\" href=https://colab.research.google.com/notebooks/data_table.ipynb>data table notebook</a>'\n",
              "            + ' to learn more about interactive tables.';\n",
              "          element.innerHTML = '';\n",
              "          dataTable['output_type'] = 'display_data';\n",
              "          await google.colab.output.renderOutput(dataTable, element);\n",
              "          const docLink = document.createElement('div');\n",
              "          docLink.innerHTML = docLinkHtml;\n",
              "          element.appendChild(docLink);\n",
              "        }\n",
              "      </script>\n",
              "    </div>\n",
              "  </div>\n",
              "  "
            ]
          },
          "metadata": {},
          "execution_count": 48
        }
      ]
    },
    {
      "cell_type": "code",
      "source": [
        "movies_final.columns"
      ],
      "metadata": {
        "id": "4FScM92dKgOB",
        "colab": {
          "base_uri": "https://localhost:8080/"
        },
        "outputId": "b1c6d0d6-8933-4724-d3d0-9c1e43235632"
      },
      "execution_count": 49,
      "outputs": [
        {
          "output_type": "execute_result",
          "data": {
            "text/plain": [
              "Index(['budget', 'id', 'original_language', 'overview', 'popularity',\n",
              "       'release_date', 'revenue', 'runtime', 'status', 'tagline', 'title',\n",
              "       'vote_average', 'vote_count', 'return', 'release_year',\n",
              "       'collection_name', 'genres_name', 'production_companies_names',\n",
              "       'production_country', 'spoken_languages_names'],\n",
              "      dtype='object')"
            ]
          },
          "metadata": {},
          "execution_count": 49
        }
      ]
    },
    {
      "cell_type": "code",
      "source": [
        "movies_final = movies_final.drop_duplicates()"
      ],
      "metadata": {
        "id": "O3wv3yUigROr"
      },
      "execution_count": 50,
      "outputs": []
    },
    {
      "cell_type": "code",
      "source": [
        "movies_final.info()"
      ],
      "metadata": {
        "colab": {
          "base_uri": "https://localhost:8080/"
        },
        "id": "BA_JEQRROJEO",
        "outputId": "c17422f7-b26f-448e-ade8-fa4a87a6c4c4"
      },
      "execution_count": 51,
      "outputs": [
        {
          "output_type": "stream",
          "name": "stdout",
          "text": [
            "<class 'pandas.core.frame.DataFrame'>\n",
            "Int64Index: 45363 entries, 0 to 45465\n",
            "Data columns (total 20 columns):\n",
            " #   Column                      Non-Null Count  Dtype         \n",
            "---  ------                      --------------  -----         \n",
            " 0   budget                      45363 non-null  object        \n",
            " 1   id                          45363 non-null  object        \n",
            " 2   original_language           45352 non-null  object        \n",
            " 3   overview                    44422 non-null  object        \n",
            " 4   popularity                  45363 non-null  object        \n",
            " 5   release_date                45363 non-null  datetime64[ns]\n",
            " 6   revenue                     45363 non-null  float64       \n",
            " 7   runtime                     45117 non-null  float64       \n",
            " 8   status                      45283 non-null  object        \n",
            " 9   tagline                     20394 non-null  object        \n",
            " 10  title                       45363 non-null  object        \n",
            " 11  vote_average                45363 non-null  float64       \n",
            " 12  vote_count                  45363 non-null  float64       \n",
            " 13  return                      45363 non-null  float64       \n",
            " 14  release_year                45363 non-null  int64         \n",
            " 15  collection_name             4381 non-null   object        \n",
            " 16  genres_name                 45363 non-null  object        \n",
            " 17  production_companies_names  45363 non-null  object        \n",
            " 18  production_country          45363 non-null  object        \n",
            " 19  spoken_languages_names      45363 non-null  object        \n",
            "dtypes: datetime64[ns](1), float64(5), int64(1), object(13)\n",
            "memory usage: 7.3+ MB\n"
          ]
        }
      ]
    },
    {
      "cell_type": "code",
      "source": [
        "movies_final.columns\n"
      ],
      "metadata": {
        "colab": {
          "base_uri": "https://localhost:8080/"
        },
        "id": "ASbt_RC1xexK",
        "outputId": "0c77ec79-0096-474e-efc1-bf93425924ef"
      },
      "execution_count": 86,
      "outputs": [
        {
          "output_type": "execute_result",
          "data": {
            "text/plain": [
              "Index(['budget', 'id', 'original_language', 'overview', 'popularity',\n",
              "       'release_date', 'revenue', 'runtime', 'status', 'tagline', 'title',\n",
              "       'vote_average', 'vote_count', 'return', 'release_year',\n",
              "       'collection_name', 'genres_name', 'production_companies_names',\n",
              "       'production_country', 'spoken_languages_names'],\n",
              "      dtype='object')"
            ]
          },
          "metadata": {},
          "execution_count": 86
        }
      ]
    },
    {
      "cell_type": "code",
      "source": [
        "# Dejamos solos los campos que se van a usar para la API\n",
        "movies_final_op = movies_final[['budget', 'id', 'popularity', 'release_date', 'revenue', 'title',\n",
        "       'vote_average', 'vote_count', 'return', 'release_year']]"
      ],
      "metadata": {
        "id": "gUG2DRqWxWOL"
      },
      "execution_count": 89,
      "outputs": []
    },
    {
      "cell_type": "markdown",
      "source": [
        "Credits"
      ],
      "metadata": {
        "id": "MndW7g-qzLE9"
      }
    },
    {
      "cell_type": "code",
      "source": [
        "credits = pd.read_csv(\"/content/drive/MyDrive/Modelo de Recomendaciones (Movies)/credits.csv\")"
      ],
      "metadata": {
        "id": "Q1LxtARoSHZK"
      },
      "execution_count": 52,
      "outputs": []
    },
    {
      "cell_type": "code",
      "source": [
        "credits.head(1)"
      ],
      "metadata": {
        "colab": {
          "base_uri": "https://localhost:8080/",
          "height": 81
        },
        "id": "SfwjXUP0SHW5",
        "outputId": "dd2b4198-bb23-48a5-fefa-fc272ee9bcdd"
      },
      "execution_count": 53,
      "outputs": [
        {
          "output_type": "execute_result",
          "data": {
            "text/plain": [
              "                                                cast  \\\n",
              "0  [{'cast_id': 14, 'character': 'Woody (voice)',...   \n",
              "\n",
              "                                                crew   id  \n",
              "0  [{'credit_id': '52fe4284c3a36847f8024f49', 'de...  862  "
            ],
            "text/html": [
              "\n",
              "  <div id=\"df-ac810981-4d1c-4746-8a8f-302268974598\">\n",
              "    <div class=\"colab-df-container\">\n",
              "      <div>\n",
              "<style scoped>\n",
              "    .dataframe tbody tr th:only-of-type {\n",
              "        vertical-align: middle;\n",
              "    }\n",
              "\n",
              "    .dataframe tbody tr th {\n",
              "        vertical-align: top;\n",
              "    }\n",
              "\n",
              "    .dataframe thead th {\n",
              "        text-align: right;\n",
              "    }\n",
              "</style>\n",
              "<table border=\"1\" class=\"dataframe\">\n",
              "  <thead>\n",
              "    <tr style=\"text-align: right;\">\n",
              "      <th></th>\n",
              "      <th>cast</th>\n",
              "      <th>crew</th>\n",
              "      <th>id</th>\n",
              "    </tr>\n",
              "  </thead>\n",
              "  <tbody>\n",
              "    <tr>\n",
              "      <th>0</th>\n",
              "      <td>[{'cast_id': 14, 'character': 'Woody (voice)',...</td>\n",
              "      <td>[{'credit_id': '52fe4284c3a36847f8024f49', 'de...</td>\n",
              "      <td>862</td>\n",
              "    </tr>\n",
              "  </tbody>\n",
              "</table>\n",
              "</div>\n",
              "      <button class=\"colab-df-convert\" onclick=\"convertToInteractive('df-ac810981-4d1c-4746-8a8f-302268974598')\"\n",
              "              title=\"Convert this dataframe to an interactive table.\"\n",
              "              style=\"display:none;\">\n",
              "        \n",
              "  <svg xmlns=\"http://www.w3.org/2000/svg\" height=\"24px\"viewBox=\"0 0 24 24\"\n",
              "       width=\"24px\">\n",
              "    <path d=\"M0 0h24v24H0V0z\" fill=\"none\"/>\n",
              "    <path d=\"M18.56 5.44l.94 2.06.94-2.06 2.06-.94-2.06-.94-.94-2.06-.94 2.06-2.06.94zm-11 1L8.5 8.5l.94-2.06 2.06-.94-2.06-.94L8.5 2.5l-.94 2.06-2.06.94zm10 10l.94 2.06.94-2.06 2.06-.94-2.06-.94-.94-2.06-.94 2.06-2.06.94z\"/><path d=\"M17.41 7.96l-1.37-1.37c-.4-.4-.92-.59-1.43-.59-.52 0-1.04.2-1.43.59L10.3 9.45l-7.72 7.72c-.78.78-.78 2.05 0 2.83L4 21.41c.39.39.9.59 1.41.59.51 0 1.02-.2 1.41-.59l7.78-7.78 2.81-2.81c.8-.78.8-2.07 0-2.86zM5.41 20L4 18.59l7.72-7.72 1.47 1.35L5.41 20z\"/>\n",
              "  </svg>\n",
              "      </button>\n",
              "      \n",
              "  <style>\n",
              "    .colab-df-container {\n",
              "      display:flex;\n",
              "      flex-wrap:wrap;\n",
              "      gap: 12px;\n",
              "    }\n",
              "\n",
              "    .colab-df-convert {\n",
              "      background-color: #E8F0FE;\n",
              "      border: none;\n",
              "      border-radius: 50%;\n",
              "      cursor: pointer;\n",
              "      display: none;\n",
              "      fill: #1967D2;\n",
              "      height: 32px;\n",
              "      padding: 0 0 0 0;\n",
              "      width: 32px;\n",
              "    }\n",
              "\n",
              "    .colab-df-convert:hover {\n",
              "      background-color: #E2EBFA;\n",
              "      box-shadow: 0px 1px 2px rgba(60, 64, 67, 0.3), 0px 1px 3px 1px rgba(60, 64, 67, 0.15);\n",
              "      fill: #174EA6;\n",
              "    }\n",
              "\n",
              "    [theme=dark] .colab-df-convert {\n",
              "      background-color: #3B4455;\n",
              "      fill: #D2E3FC;\n",
              "    }\n",
              "\n",
              "    [theme=dark] .colab-df-convert:hover {\n",
              "      background-color: #434B5C;\n",
              "      box-shadow: 0px 1px 3px 1px rgba(0, 0, 0, 0.15);\n",
              "      filter: drop-shadow(0px 1px 2px rgba(0, 0, 0, 0.3));\n",
              "      fill: #FFFFFF;\n",
              "    }\n",
              "  </style>\n",
              "\n",
              "      <script>\n",
              "        const buttonEl =\n",
              "          document.querySelector('#df-ac810981-4d1c-4746-8a8f-302268974598 button.colab-df-convert');\n",
              "        buttonEl.style.display =\n",
              "          google.colab.kernel.accessAllowed ? 'block' : 'none';\n",
              "\n",
              "        async function convertToInteractive(key) {\n",
              "          const element = document.querySelector('#df-ac810981-4d1c-4746-8a8f-302268974598');\n",
              "          const dataTable =\n",
              "            await google.colab.kernel.invokeFunction('convertToInteractive',\n",
              "                                                     [key], {});\n",
              "          if (!dataTable) return;\n",
              "\n",
              "          const docLinkHtml = 'Like what you see? Visit the ' +\n",
              "            '<a target=\"_blank\" href=https://colab.research.google.com/notebooks/data_table.ipynb>data table notebook</a>'\n",
              "            + ' to learn more about interactive tables.';\n",
              "          element.innerHTML = '';\n",
              "          dataTable['output_type'] = 'display_data';\n",
              "          await google.colab.output.renderOutput(dataTable, element);\n",
              "          const docLink = document.createElement('div');\n",
              "          docLink.innerHTML = docLinkHtml;\n",
              "          element.appendChild(docLink);\n",
              "        }\n",
              "      </script>\n",
              "    </div>\n",
              "  </div>\n",
              "  "
            ]
          },
          "metadata": {},
          "execution_count": 53
        }
      ]
    },
    {
      "cell_type": "code",
      "source": [
        "credits.shape"
      ],
      "metadata": {
        "id": "1CLbDDVzSHUq",
        "colab": {
          "base_uri": "https://localhost:8080/"
        },
        "outputId": "2e218fa7-cfe3-4145-ab4e-0865991ff182"
      },
      "execution_count": 54,
      "outputs": [
        {
          "output_type": "execute_result",
          "data": {
            "text/plain": [
              "(45476, 3)"
            ]
          },
          "metadata": {},
          "execution_count": 54
        }
      ]
    },
    {
      "cell_type": "code",
      "source": [
        "credits_final = credits"
      ],
      "metadata": {
        "id": "PyPYvXLHdt6z"
      },
      "execution_count": 55,
      "outputs": []
    },
    {
      "cell_type": "code",
      "source": [
        "credits_final.head(1)"
      ],
      "metadata": {
        "colab": {
          "base_uri": "https://localhost:8080/",
          "height": 81
        },
        "id": "nNKEifB_oN8L",
        "outputId": "00650a98-5afb-4bce-af45-11f5a92f2093"
      },
      "execution_count": 56,
      "outputs": [
        {
          "output_type": "execute_result",
          "data": {
            "text/plain": [
              "                                                cast  \\\n",
              "0  [{'cast_id': 14, 'character': 'Woody (voice)',...   \n",
              "\n",
              "                                                crew   id  \n",
              "0  [{'credit_id': '52fe4284c3a36847f8024f49', 'de...  862  "
            ],
            "text/html": [
              "\n",
              "  <div id=\"df-96a221ff-5518-4bfb-82c2-3e383620ae72\">\n",
              "    <div class=\"colab-df-container\">\n",
              "      <div>\n",
              "<style scoped>\n",
              "    .dataframe tbody tr th:only-of-type {\n",
              "        vertical-align: middle;\n",
              "    }\n",
              "\n",
              "    .dataframe tbody tr th {\n",
              "        vertical-align: top;\n",
              "    }\n",
              "\n",
              "    .dataframe thead th {\n",
              "        text-align: right;\n",
              "    }\n",
              "</style>\n",
              "<table border=\"1\" class=\"dataframe\">\n",
              "  <thead>\n",
              "    <tr style=\"text-align: right;\">\n",
              "      <th></th>\n",
              "      <th>cast</th>\n",
              "      <th>crew</th>\n",
              "      <th>id</th>\n",
              "    </tr>\n",
              "  </thead>\n",
              "  <tbody>\n",
              "    <tr>\n",
              "      <th>0</th>\n",
              "      <td>[{'cast_id': 14, 'character': 'Woody (voice)',...</td>\n",
              "      <td>[{'credit_id': '52fe4284c3a36847f8024f49', 'de...</td>\n",
              "      <td>862</td>\n",
              "    </tr>\n",
              "  </tbody>\n",
              "</table>\n",
              "</div>\n",
              "      <button class=\"colab-df-convert\" onclick=\"convertToInteractive('df-96a221ff-5518-4bfb-82c2-3e383620ae72')\"\n",
              "              title=\"Convert this dataframe to an interactive table.\"\n",
              "              style=\"display:none;\">\n",
              "        \n",
              "  <svg xmlns=\"http://www.w3.org/2000/svg\" height=\"24px\"viewBox=\"0 0 24 24\"\n",
              "       width=\"24px\">\n",
              "    <path d=\"M0 0h24v24H0V0z\" fill=\"none\"/>\n",
              "    <path d=\"M18.56 5.44l.94 2.06.94-2.06 2.06-.94-2.06-.94-.94-2.06-.94 2.06-2.06.94zm-11 1L8.5 8.5l.94-2.06 2.06-.94-2.06-.94L8.5 2.5l-.94 2.06-2.06.94zm10 10l.94 2.06.94-2.06 2.06-.94-2.06-.94-.94-2.06-.94 2.06-2.06.94z\"/><path d=\"M17.41 7.96l-1.37-1.37c-.4-.4-.92-.59-1.43-.59-.52 0-1.04.2-1.43.59L10.3 9.45l-7.72 7.72c-.78.78-.78 2.05 0 2.83L4 21.41c.39.39.9.59 1.41.59.51 0 1.02-.2 1.41-.59l7.78-7.78 2.81-2.81c.8-.78.8-2.07 0-2.86zM5.41 20L4 18.59l7.72-7.72 1.47 1.35L5.41 20z\"/>\n",
              "  </svg>\n",
              "      </button>\n",
              "      \n",
              "  <style>\n",
              "    .colab-df-container {\n",
              "      display:flex;\n",
              "      flex-wrap:wrap;\n",
              "      gap: 12px;\n",
              "    }\n",
              "\n",
              "    .colab-df-convert {\n",
              "      background-color: #E8F0FE;\n",
              "      border: none;\n",
              "      border-radius: 50%;\n",
              "      cursor: pointer;\n",
              "      display: none;\n",
              "      fill: #1967D2;\n",
              "      height: 32px;\n",
              "      padding: 0 0 0 0;\n",
              "      width: 32px;\n",
              "    }\n",
              "\n",
              "    .colab-df-convert:hover {\n",
              "      background-color: #E2EBFA;\n",
              "      box-shadow: 0px 1px 2px rgba(60, 64, 67, 0.3), 0px 1px 3px 1px rgba(60, 64, 67, 0.15);\n",
              "      fill: #174EA6;\n",
              "    }\n",
              "\n",
              "    [theme=dark] .colab-df-convert {\n",
              "      background-color: #3B4455;\n",
              "      fill: #D2E3FC;\n",
              "    }\n",
              "\n",
              "    [theme=dark] .colab-df-convert:hover {\n",
              "      background-color: #434B5C;\n",
              "      box-shadow: 0px 1px 3px 1px rgba(0, 0, 0, 0.15);\n",
              "      filter: drop-shadow(0px 1px 2px rgba(0, 0, 0, 0.3));\n",
              "      fill: #FFFFFF;\n",
              "    }\n",
              "  </style>\n",
              "\n",
              "      <script>\n",
              "        const buttonEl =\n",
              "          document.querySelector('#df-96a221ff-5518-4bfb-82c2-3e383620ae72 button.colab-df-convert');\n",
              "        buttonEl.style.display =\n",
              "          google.colab.kernel.accessAllowed ? 'block' : 'none';\n",
              "\n",
              "        async function convertToInteractive(key) {\n",
              "          const element = document.querySelector('#df-96a221ff-5518-4bfb-82c2-3e383620ae72');\n",
              "          const dataTable =\n",
              "            await google.colab.kernel.invokeFunction('convertToInteractive',\n",
              "                                                     [key], {});\n",
              "          if (!dataTable) return;\n",
              "\n",
              "          const docLinkHtml = 'Like what you see? Visit the ' +\n",
              "            '<a target=\"_blank\" href=https://colab.research.google.com/notebooks/data_table.ipynb>data table notebook</a>'\n",
              "            + ' to learn more about interactive tables.';\n",
              "          element.innerHTML = '';\n",
              "          dataTable['output_type'] = 'display_data';\n",
              "          await google.colab.output.renderOutput(dataTable, element);\n",
              "          const docLink = document.createElement('div');\n",
              "          docLink.innerHTML = docLinkHtml;\n",
              "          element.appendChild(docLink);\n",
              "        }\n",
              "      </script>\n",
              "    </div>\n",
              "  </div>\n",
              "  "
            ]
          },
          "metadata": {},
          "execution_count": 56
        }
      ]
    },
    {
      "cell_type": "code",
      "source": [
        "credits_final.info()"
      ],
      "metadata": {
        "colab": {
          "base_uri": "https://localhost:8080/"
        },
        "id": "8huu7c5dnTcC",
        "outputId": "1fb7751c-37a4-4bfb-dbe3-2f61511f55ef"
      },
      "execution_count": 57,
      "outputs": [
        {
          "output_type": "stream",
          "name": "stdout",
          "text": [
            "<class 'pandas.core.frame.DataFrame'>\n",
            "RangeIndex: 45476 entries, 0 to 45475\n",
            "Data columns (total 3 columns):\n",
            " #   Column  Non-Null Count  Dtype \n",
            "---  ------  --------------  ----- \n",
            " 0   cast    45476 non-null  object\n",
            " 1   crew    45476 non-null  object\n",
            " 2   id      45476 non-null  int64 \n",
            "dtypes: int64(1), object(2)\n",
            "memory usage: 1.0+ MB\n"
          ]
        }
      ]
    },
    {
      "cell_type": "code",
      "source": [
        "credits_final.duplicated().any()"
      ],
      "metadata": {
        "colab": {
          "base_uri": "https://localhost:8080/"
        },
        "id": "TrAI0iVOne8r",
        "outputId": "b1d1e674-0fc9-47e1-8138-e960351c63e2"
      },
      "execution_count": 58,
      "outputs": [
        {
          "output_type": "execute_result",
          "data": {
            "text/plain": [
              "True"
            ]
          },
          "metadata": {},
          "execution_count": 58
        }
      ]
    },
    {
      "cell_type": "code",
      "source": [
        "credits_final.drop_duplicates().reset_index(drop=True)"
      ],
      "metadata": {
        "colab": {
          "base_uri": "https://localhost:8080/",
          "height": 423
        },
        "id": "Hn5VXqo9n73y",
        "outputId": "68098467-3839-4f79-ca43-957d3b578926"
      },
      "execution_count": 59,
      "outputs": [
        {
          "output_type": "execute_result",
          "data": {
            "text/plain": [
              "                                                    cast  \\\n",
              "0      [{'cast_id': 14, 'character': 'Woody (voice)',...   \n",
              "1      [{'cast_id': 1, 'character': 'Alan Parrish', '...   \n",
              "2      [{'cast_id': 2, 'character': 'Max Goldman', 'c...   \n",
              "3      [{'cast_id': 1, 'character': \"Savannah 'Vannah...   \n",
              "4      [{'cast_id': 1, 'character': 'George Banks', '...   \n",
              "...                                                  ...   \n",
              "45434  [{'cast_id': 0, 'character': '', 'credit_id': ...   \n",
              "45435  [{'cast_id': 1002, 'character': 'Sister Angela...   \n",
              "45436  [{'cast_id': 6, 'character': 'Emily Shaw', 'cr...   \n",
              "45437  [{'cast_id': 2, 'character': '', 'credit_id': ...   \n",
              "45438                                                 []   \n",
              "\n",
              "                                                    crew      id  \n",
              "0      [{'credit_id': '52fe4284c3a36847f8024f49', 'de...     862  \n",
              "1      [{'credit_id': '52fe44bfc3a36847f80a7cd1', 'de...    8844  \n",
              "2      [{'credit_id': '52fe466a9251416c75077a89', 'de...   15602  \n",
              "3      [{'credit_id': '52fe44779251416c91011acb', 'de...   31357  \n",
              "4      [{'credit_id': '52fe44959251416c75039ed7', 'de...   11862  \n",
              "...                                                  ...     ...  \n",
              "45434  [{'credit_id': '5894a97d925141426c00818c', 'de...  439050  \n",
              "45435  [{'credit_id': '52fe4af1c3a36847f81e9b15', 'de...  111109  \n",
              "45436  [{'credit_id': '52fe4776c3a368484e0c8387', 'de...   67758  \n",
              "45437  [{'credit_id': '533bccebc3a36844cf0011a7', 'de...  227506  \n",
              "45438  [{'credit_id': '593e676c92514105b702e68e', 'de...  461257  \n",
              "\n",
              "[45439 rows x 3 columns]"
            ],
            "text/html": [
              "\n",
              "  <div id=\"df-c9d952b0-acab-404a-94f7-8f0492a39f85\">\n",
              "    <div class=\"colab-df-container\">\n",
              "      <div>\n",
              "<style scoped>\n",
              "    .dataframe tbody tr th:only-of-type {\n",
              "        vertical-align: middle;\n",
              "    }\n",
              "\n",
              "    .dataframe tbody tr th {\n",
              "        vertical-align: top;\n",
              "    }\n",
              "\n",
              "    .dataframe thead th {\n",
              "        text-align: right;\n",
              "    }\n",
              "</style>\n",
              "<table border=\"1\" class=\"dataframe\">\n",
              "  <thead>\n",
              "    <tr style=\"text-align: right;\">\n",
              "      <th></th>\n",
              "      <th>cast</th>\n",
              "      <th>crew</th>\n",
              "      <th>id</th>\n",
              "    </tr>\n",
              "  </thead>\n",
              "  <tbody>\n",
              "    <tr>\n",
              "      <th>0</th>\n",
              "      <td>[{'cast_id': 14, 'character': 'Woody (voice)',...</td>\n",
              "      <td>[{'credit_id': '52fe4284c3a36847f8024f49', 'de...</td>\n",
              "      <td>862</td>\n",
              "    </tr>\n",
              "    <tr>\n",
              "      <th>1</th>\n",
              "      <td>[{'cast_id': 1, 'character': 'Alan Parrish', '...</td>\n",
              "      <td>[{'credit_id': '52fe44bfc3a36847f80a7cd1', 'de...</td>\n",
              "      <td>8844</td>\n",
              "    </tr>\n",
              "    <tr>\n",
              "      <th>2</th>\n",
              "      <td>[{'cast_id': 2, 'character': 'Max Goldman', 'c...</td>\n",
              "      <td>[{'credit_id': '52fe466a9251416c75077a89', 'de...</td>\n",
              "      <td>15602</td>\n",
              "    </tr>\n",
              "    <tr>\n",
              "      <th>3</th>\n",
              "      <td>[{'cast_id': 1, 'character': \"Savannah 'Vannah...</td>\n",
              "      <td>[{'credit_id': '52fe44779251416c91011acb', 'de...</td>\n",
              "      <td>31357</td>\n",
              "    </tr>\n",
              "    <tr>\n",
              "      <th>4</th>\n",
              "      <td>[{'cast_id': 1, 'character': 'George Banks', '...</td>\n",
              "      <td>[{'credit_id': '52fe44959251416c75039ed7', 'de...</td>\n",
              "      <td>11862</td>\n",
              "    </tr>\n",
              "    <tr>\n",
              "      <th>...</th>\n",
              "      <td>...</td>\n",
              "      <td>...</td>\n",
              "      <td>...</td>\n",
              "    </tr>\n",
              "    <tr>\n",
              "      <th>45434</th>\n",
              "      <td>[{'cast_id': 0, 'character': '', 'credit_id': ...</td>\n",
              "      <td>[{'credit_id': '5894a97d925141426c00818c', 'de...</td>\n",
              "      <td>439050</td>\n",
              "    </tr>\n",
              "    <tr>\n",
              "      <th>45435</th>\n",
              "      <td>[{'cast_id': 1002, 'character': 'Sister Angela...</td>\n",
              "      <td>[{'credit_id': '52fe4af1c3a36847f81e9b15', 'de...</td>\n",
              "      <td>111109</td>\n",
              "    </tr>\n",
              "    <tr>\n",
              "      <th>45436</th>\n",
              "      <td>[{'cast_id': 6, 'character': 'Emily Shaw', 'cr...</td>\n",
              "      <td>[{'credit_id': '52fe4776c3a368484e0c8387', 'de...</td>\n",
              "      <td>67758</td>\n",
              "    </tr>\n",
              "    <tr>\n",
              "      <th>45437</th>\n",
              "      <td>[{'cast_id': 2, 'character': '', 'credit_id': ...</td>\n",
              "      <td>[{'credit_id': '533bccebc3a36844cf0011a7', 'de...</td>\n",
              "      <td>227506</td>\n",
              "    </tr>\n",
              "    <tr>\n",
              "      <th>45438</th>\n",
              "      <td>[]</td>\n",
              "      <td>[{'credit_id': '593e676c92514105b702e68e', 'de...</td>\n",
              "      <td>461257</td>\n",
              "    </tr>\n",
              "  </tbody>\n",
              "</table>\n",
              "<p>45439 rows × 3 columns</p>\n",
              "</div>\n",
              "      <button class=\"colab-df-convert\" onclick=\"convertToInteractive('df-c9d952b0-acab-404a-94f7-8f0492a39f85')\"\n",
              "              title=\"Convert this dataframe to an interactive table.\"\n",
              "              style=\"display:none;\">\n",
              "        \n",
              "  <svg xmlns=\"http://www.w3.org/2000/svg\" height=\"24px\"viewBox=\"0 0 24 24\"\n",
              "       width=\"24px\">\n",
              "    <path d=\"M0 0h24v24H0V0z\" fill=\"none\"/>\n",
              "    <path d=\"M18.56 5.44l.94 2.06.94-2.06 2.06-.94-2.06-.94-.94-2.06-.94 2.06-2.06.94zm-11 1L8.5 8.5l.94-2.06 2.06-.94-2.06-.94L8.5 2.5l-.94 2.06-2.06.94zm10 10l.94 2.06.94-2.06 2.06-.94-2.06-.94-.94-2.06-.94 2.06-2.06.94z\"/><path d=\"M17.41 7.96l-1.37-1.37c-.4-.4-.92-.59-1.43-.59-.52 0-1.04.2-1.43.59L10.3 9.45l-7.72 7.72c-.78.78-.78 2.05 0 2.83L4 21.41c.39.39.9.59 1.41.59.51 0 1.02-.2 1.41-.59l7.78-7.78 2.81-2.81c.8-.78.8-2.07 0-2.86zM5.41 20L4 18.59l7.72-7.72 1.47 1.35L5.41 20z\"/>\n",
              "  </svg>\n",
              "      </button>\n",
              "      \n",
              "  <style>\n",
              "    .colab-df-container {\n",
              "      display:flex;\n",
              "      flex-wrap:wrap;\n",
              "      gap: 12px;\n",
              "    }\n",
              "\n",
              "    .colab-df-convert {\n",
              "      background-color: #E8F0FE;\n",
              "      border: none;\n",
              "      border-radius: 50%;\n",
              "      cursor: pointer;\n",
              "      display: none;\n",
              "      fill: #1967D2;\n",
              "      height: 32px;\n",
              "      padding: 0 0 0 0;\n",
              "      width: 32px;\n",
              "    }\n",
              "\n",
              "    .colab-df-convert:hover {\n",
              "      background-color: #E2EBFA;\n",
              "      box-shadow: 0px 1px 2px rgba(60, 64, 67, 0.3), 0px 1px 3px 1px rgba(60, 64, 67, 0.15);\n",
              "      fill: #174EA6;\n",
              "    }\n",
              "\n",
              "    [theme=dark] .colab-df-convert {\n",
              "      background-color: #3B4455;\n",
              "      fill: #D2E3FC;\n",
              "    }\n",
              "\n",
              "    [theme=dark] .colab-df-convert:hover {\n",
              "      background-color: #434B5C;\n",
              "      box-shadow: 0px 1px 3px 1px rgba(0, 0, 0, 0.15);\n",
              "      filter: drop-shadow(0px 1px 2px rgba(0, 0, 0, 0.3));\n",
              "      fill: #FFFFFF;\n",
              "    }\n",
              "  </style>\n",
              "\n",
              "      <script>\n",
              "        const buttonEl =\n",
              "          document.querySelector('#df-c9d952b0-acab-404a-94f7-8f0492a39f85 button.colab-df-convert');\n",
              "        buttonEl.style.display =\n",
              "          google.colab.kernel.accessAllowed ? 'block' : 'none';\n",
              "\n",
              "        async function convertToInteractive(key) {\n",
              "          const element = document.querySelector('#df-c9d952b0-acab-404a-94f7-8f0492a39f85');\n",
              "          const dataTable =\n",
              "            await google.colab.kernel.invokeFunction('convertToInteractive',\n",
              "                                                     [key], {});\n",
              "          if (!dataTable) return;\n",
              "\n",
              "          const docLinkHtml = 'Like what you see? Visit the ' +\n",
              "            '<a target=\"_blank\" href=https://colab.research.google.com/notebooks/data_table.ipynb>data table notebook</a>'\n",
              "            + ' to learn more about interactive tables.';\n",
              "          element.innerHTML = '';\n",
              "          dataTable['output_type'] = 'display_data';\n",
              "          await google.colab.output.renderOutput(dataTable, element);\n",
              "          const docLink = document.createElement('div');\n",
              "          docLink.innerHTML = docLinkHtml;\n",
              "          element.appendChild(docLink);\n",
              "        }\n",
              "      </script>\n",
              "    </div>\n",
              "  </div>\n",
              "  "
            ]
          },
          "metadata": {},
          "execution_count": 59
        }
      ]
    },
    {
      "cell_type": "code",
      "source": [
        "# Convertimos la cadena en una lista de diccionarios\n",
        "credits_final['cast'] = credits_final['cast'].apply(ast.literal_eval)"
      ],
      "metadata": {
        "id": "7xht2FzOdxR7"
      },
      "execution_count": 60,
      "outputs": []
    },
    {
      "cell_type": "code",
      "source": [
        "# Aplicamos la función extract_names a cada elemento de la columna 'cast_name'\n",
        "credits_final['cast_name'] = credits_final['cast'].apply(extract_names)"
      ],
      "metadata": {
        "id": "SuHwslsFhVry"
      },
      "execution_count": 61,
      "outputs": []
    },
    {
      "cell_type": "code",
      "source": [
        "# Convertimos la cadena en una lista de diccionarios\n",
        "credits_final['crew'] = credits_final['crew'].apply(ast.literal_eval)"
      ],
      "metadata": {
        "id": "8kSQIDjRdxNr"
      },
      "execution_count": 62,
      "outputs": []
    },
    {
      "cell_type": "code",
      "source": [
        "# 'job': 'Director', 'name': 'John Lasseter'\n",
        "\n",
        "# Función para extraer los nombres cuando job = Director\n",
        "def extract_director_name(crew_list):\n",
        "    director_names = []\n",
        "    for crew in crew_list:\n",
        "        if crew['job'] == 'Director':\n",
        "            director_names.append(crew['name'])\n",
        "            break\n",
        "    director_name = ', '.join(director_names)\n",
        "    return director_name"
      ],
      "metadata": {
        "id": "lyj3mJq0h6gj"
      },
      "execution_count": 63,
      "outputs": []
    },
    {
      "cell_type": "code",
      "source": [
        "credits_final['director'] = credits_final['crew'].apply(extract_director_name)"
      ],
      "metadata": {
        "id": "KeeuQy1hjqpE"
      },
      "execution_count": 64,
      "outputs": []
    },
    {
      "cell_type": "code",
      "source": [
        "credits_final.head(1)"
      ],
      "metadata": {
        "colab": {
          "base_uri": "https://localhost:8080/",
          "height": 81
        },
        "id": "nkyg9z4PoUhS",
        "outputId": "274ba0d4-c324-4b39-ffdc-c08a7165736d"
      },
      "execution_count": 65,
      "outputs": [
        {
          "output_type": "execute_result",
          "data": {
            "text/plain": [
              "                                                cast  \\\n",
              "0  [{'cast_id': 14, 'character': 'Woody (voice)',...   \n",
              "\n",
              "                                                crew   id  \\\n",
              "0  [{'credit_id': '52fe4284c3a36847f8024f49', 'de...  862   \n",
              "\n",
              "                                           cast_name       director  \n",
              "0  Tom Hanks, Tim Allen, Don Rickles, Jim Varney,...  John Lasseter  "
            ],
            "text/html": [
              "\n",
              "  <div id=\"df-22439f8d-95fd-4cd2-8baa-fea6fa125b7a\">\n",
              "    <div class=\"colab-df-container\">\n",
              "      <div>\n",
              "<style scoped>\n",
              "    .dataframe tbody tr th:only-of-type {\n",
              "        vertical-align: middle;\n",
              "    }\n",
              "\n",
              "    .dataframe tbody tr th {\n",
              "        vertical-align: top;\n",
              "    }\n",
              "\n",
              "    .dataframe thead th {\n",
              "        text-align: right;\n",
              "    }\n",
              "</style>\n",
              "<table border=\"1\" class=\"dataframe\">\n",
              "  <thead>\n",
              "    <tr style=\"text-align: right;\">\n",
              "      <th></th>\n",
              "      <th>cast</th>\n",
              "      <th>crew</th>\n",
              "      <th>id</th>\n",
              "      <th>cast_name</th>\n",
              "      <th>director</th>\n",
              "    </tr>\n",
              "  </thead>\n",
              "  <tbody>\n",
              "    <tr>\n",
              "      <th>0</th>\n",
              "      <td>[{'cast_id': 14, 'character': 'Woody (voice)',...</td>\n",
              "      <td>[{'credit_id': '52fe4284c3a36847f8024f49', 'de...</td>\n",
              "      <td>862</td>\n",
              "      <td>Tom Hanks, Tim Allen, Don Rickles, Jim Varney,...</td>\n",
              "      <td>John Lasseter</td>\n",
              "    </tr>\n",
              "  </tbody>\n",
              "</table>\n",
              "</div>\n",
              "      <button class=\"colab-df-convert\" onclick=\"convertToInteractive('df-22439f8d-95fd-4cd2-8baa-fea6fa125b7a')\"\n",
              "              title=\"Convert this dataframe to an interactive table.\"\n",
              "              style=\"display:none;\">\n",
              "        \n",
              "  <svg xmlns=\"http://www.w3.org/2000/svg\" height=\"24px\"viewBox=\"0 0 24 24\"\n",
              "       width=\"24px\">\n",
              "    <path d=\"M0 0h24v24H0V0z\" fill=\"none\"/>\n",
              "    <path d=\"M18.56 5.44l.94 2.06.94-2.06 2.06-.94-2.06-.94-.94-2.06-.94 2.06-2.06.94zm-11 1L8.5 8.5l.94-2.06 2.06-.94-2.06-.94L8.5 2.5l-.94 2.06-2.06.94zm10 10l.94 2.06.94-2.06 2.06-.94-2.06-.94-.94-2.06-.94 2.06-2.06.94z\"/><path d=\"M17.41 7.96l-1.37-1.37c-.4-.4-.92-.59-1.43-.59-.52 0-1.04.2-1.43.59L10.3 9.45l-7.72 7.72c-.78.78-.78 2.05 0 2.83L4 21.41c.39.39.9.59 1.41.59.51 0 1.02-.2 1.41-.59l7.78-7.78 2.81-2.81c.8-.78.8-2.07 0-2.86zM5.41 20L4 18.59l7.72-7.72 1.47 1.35L5.41 20z\"/>\n",
              "  </svg>\n",
              "      </button>\n",
              "      \n",
              "  <style>\n",
              "    .colab-df-container {\n",
              "      display:flex;\n",
              "      flex-wrap:wrap;\n",
              "      gap: 12px;\n",
              "    }\n",
              "\n",
              "    .colab-df-convert {\n",
              "      background-color: #E8F0FE;\n",
              "      border: none;\n",
              "      border-radius: 50%;\n",
              "      cursor: pointer;\n",
              "      display: none;\n",
              "      fill: #1967D2;\n",
              "      height: 32px;\n",
              "      padding: 0 0 0 0;\n",
              "      width: 32px;\n",
              "    }\n",
              "\n",
              "    .colab-df-convert:hover {\n",
              "      background-color: #E2EBFA;\n",
              "      box-shadow: 0px 1px 2px rgba(60, 64, 67, 0.3), 0px 1px 3px 1px rgba(60, 64, 67, 0.15);\n",
              "      fill: #174EA6;\n",
              "    }\n",
              "\n",
              "    [theme=dark] .colab-df-convert {\n",
              "      background-color: #3B4455;\n",
              "      fill: #D2E3FC;\n",
              "    }\n",
              "\n",
              "    [theme=dark] .colab-df-convert:hover {\n",
              "      background-color: #434B5C;\n",
              "      box-shadow: 0px 1px 3px 1px rgba(0, 0, 0, 0.15);\n",
              "      filter: drop-shadow(0px 1px 2px rgba(0, 0, 0, 0.3));\n",
              "      fill: #FFFFFF;\n",
              "    }\n",
              "  </style>\n",
              "\n",
              "      <script>\n",
              "        const buttonEl =\n",
              "          document.querySelector('#df-22439f8d-95fd-4cd2-8baa-fea6fa125b7a button.colab-df-convert');\n",
              "        buttonEl.style.display =\n",
              "          google.colab.kernel.accessAllowed ? 'block' : 'none';\n",
              "\n",
              "        async function convertToInteractive(key) {\n",
              "          const element = document.querySelector('#df-22439f8d-95fd-4cd2-8baa-fea6fa125b7a');\n",
              "          const dataTable =\n",
              "            await google.colab.kernel.invokeFunction('convertToInteractive',\n",
              "                                                     [key], {});\n",
              "          if (!dataTable) return;\n",
              "\n",
              "          const docLinkHtml = 'Like what you see? Visit the ' +\n",
              "            '<a target=\"_blank\" href=https://colab.research.google.com/notebooks/data_table.ipynb>data table notebook</a>'\n",
              "            + ' to learn more about interactive tables.';\n",
              "          element.innerHTML = '';\n",
              "          dataTable['output_type'] = 'display_data';\n",
              "          await google.colab.output.renderOutput(dataTable, element);\n",
              "          const docLink = document.createElement('div');\n",
              "          docLink.innerHTML = docLinkHtml;\n",
              "          element.appendChild(docLink);\n",
              "        }\n",
              "      </script>\n",
              "    </div>\n",
              "  </div>\n",
              "  "
            ]
          },
          "metadata": {},
          "execution_count": 65
        }
      ]
    },
    {
      "cell_type": "code",
      "source": [
        "# Eliminamos cast y crew\n",
        "credits_final = credits_final.drop(['cast', 'crew'], axis=1)"
      ],
      "metadata": {
        "id": "xifA0inwqekd"
      },
      "execution_count": 66,
      "outputs": []
    },
    {
      "cell_type": "code",
      "source": [
        "credits_final.info()"
      ],
      "metadata": {
        "colab": {
          "base_uri": "https://localhost:8080/"
        },
        "id": "s-w2FbqKo6Or",
        "outputId": "3420fe88-486f-4f40-aa8d-930fdf5ce73d"
      },
      "execution_count": 67,
      "outputs": [
        {
          "output_type": "stream",
          "name": "stdout",
          "text": [
            "<class 'pandas.core.frame.DataFrame'>\n",
            "RangeIndex: 45476 entries, 0 to 45475\n",
            "Data columns (total 3 columns):\n",
            " #   Column     Non-Null Count  Dtype \n",
            "---  ------     --------------  ----- \n",
            " 0   id         45476 non-null  int64 \n",
            " 1   cast_name  45476 non-null  object\n",
            " 2   director   45476 non-null  object\n",
            "dtypes: int64(1), object(2)\n",
            "memory usage: 1.0+ MB\n"
          ]
        }
      ]
    },
    {
      "cell_type": "markdown",
      "source": [
        "## Consultas"
      ],
      "metadata": {
        "id": "SgdTxgiOGXPp"
      }
    },
    {
      "cell_type": "markdown",
      "source": [
        "def cantidad_filmaciones_mes( Mes ): Se ingresa un mes en idioma Español. Debe devolver la cantidad de películas que fueron estrenadas en el mes consultado en la totalidad del dataset.\n",
        "Ejemplo de retorno: X cantidad de películas fueron estrenadas en el mes de X"
      ],
      "metadata": {
        "id": "sErpLathGaHB"
      }
    },
    {
      "cell_type": "code",
      "source": [
        "def cantidad_filmaciones_mes( Mes ):\n",
        "  mes = Mes.lower()\n",
        "  meses = {'enero': 1, 'febrero': 2, 'marzo': 3, 'abril': 4, 'mayo': 5, 'junio': 6, 'julio': 7, 'agosto': 8, 'septiembre': 9, 'octubre': 10, 'noviembre': 11, 'diciembre': 12}\n",
        "  mes_nro = meses.get(mes)\n",
        "  estrenos = movies_final[movies_final['release_date'].dt.month == mes_nro]\n",
        "  cantidad = len(estrenos['id'].unique())\n",
        "  return {'mes':mes.capitalize(), 'cantidad':cantidad}\n"
      ],
      "metadata": {
        "id": "TCJRbYyWSHSc"
      },
      "execution_count": 68,
      "outputs": []
    },
    {
      "cell_type": "code",
      "source": [
        "cantidad_filmaciones_mes('JULIO')"
      ],
      "metadata": {
        "colab": {
          "base_uri": "https://localhost:8080/"
        },
        "id": "966qJtfLIyrw",
        "outputId": "68cc1858-bc9f-4745-a93c-83c53defe97f"
      },
      "execution_count": 69,
      "outputs": [
        {
          "output_type": "execute_result",
          "data": {
            "text/plain": [
              "{'mes': 'Julio', 'cantidad': 2638}"
            ]
          },
          "metadata": {},
          "execution_count": 69
        }
      ]
    },
    {
      "cell_type": "markdown",
      "source": [
        "def cantidad_filmaciones_dia( Dia ): Se ingresa un día en idioma Español. Debe devolver la cantidad de películas que fueron estrenadas en día consultado en la totalidad del dataset.\n",
        "                    Ejemplo de retorno: X cantidad de películas fueron estrenadas en los días X"
      ],
      "metadata": {
        "id": "G1upJz2OGbLp"
      }
    },
    {
      "cell_type": "code",
      "source": [
        "def cantidad_filmaciones_dia( Dia ):\n",
        "  dia = Dia.lower()\n",
        "  dias = {'lunes': 'Monday', 'martes': 'Tuesday', 'miercoles': 'Wednesday', 'jueves': 'Thursday', 'viernes': 'Friday', 'sabado': 'Saturday', 'domingo': 'Sunday'}\n",
        "  dia_en = dias.get(dia)\n",
        "  estrenos = movies_final[movies_final['release_date'].dt.day_name() == dia_en]\n",
        "  cantidad = len(estrenos['id'].unique())\n",
        "  return {'dia':dia.capitalize(), 'cantidad':cantidad}"
      ],
      "metadata": {
        "id": "LTRT63DkSHQB"
      },
      "execution_count": 70,
      "outputs": []
    },
    {
      "cell_type": "code",
      "source": [
        "cantidad_filmaciones_dia('VIERNES')"
      ],
      "metadata": {
        "colab": {
          "base_uri": "https://localhost:8080/"
        },
        "id": "m46p-Nh1nvnQ",
        "outputId": "30b9f9db-bf01-4e86-967d-e7b485e6ac0e"
      },
      "execution_count": 71,
      "outputs": [
        {
          "output_type": "execute_result",
          "data": {
            "text/plain": [
              "{'dia': 'Viernes', 'cantidad': 13902}"
            ]
          },
          "metadata": {},
          "execution_count": 71
        }
      ]
    },
    {
      "cell_type": "markdown",
      "source": [
        "def score_titulo( titulo_de_la_filmación ): Se ingresa el título de una filmación esperando como respuesta el título, el año de estreno y el score.\n",
        "                    Ejemplo de retorno: La película X fue estrenada en el año X con un score/popularidad de X"
      ],
      "metadata": {
        "id": "i-rX-K1rGjWx"
      }
    },
    {
      "cell_type": "code",
      "source": [
        "def score_titulo( titulo_de_la_filmación ):\n",
        "  title = titulo_de_la_filmación.replace(\" \", \"\").lower()\n",
        "  movie_c = movies_final[movies_final['title'].str.replace(\" \", \"\").str.lower().str.contains(title)].drop_duplicates(subset='id')\n",
        "  if movie_c.empty:\n",
        "        return f'No se encontró la película {titulo_de_la_filmación} en la base de datos.'\n",
        "  movie = movie_c['title'].iloc[0]\n",
        "  year = movie_c['release_year'].iloc[0]\n",
        "  popularity = movie_c['popularity'].iloc[0]\n",
        "  return {'titulo':movie, 'anio':year, 'popularidad':popularity}"
      ],
      "metadata": {
        "id": "pRyqJi9XSHN6"
      },
      "execution_count": 72,
      "outputs": []
    },
    {
      "cell_type": "code",
      "source": [
        "score_titulo('toystory')"
      ],
      "metadata": {
        "colab": {
          "base_uri": "https://localhost:8080/"
        },
        "id": "Wkn7149yTbBI",
        "outputId": "dfbf2295-c2d7-484e-bceb-ec0d37f50e1b"
      },
      "execution_count": 73,
      "outputs": [
        {
          "output_type": "execute_result",
          "data": {
            "text/plain": [
              "{'titulo': 'Toy Story', 'anio': 1995, 'popularidad': 21.946943}"
            ]
          },
          "metadata": {},
          "execution_count": 73
        }
      ]
    },
    {
      "cell_type": "markdown",
      "source": [
        "def votos_titulo( titulo_de_la_filmación ): Se ingresa el título de una filmación esperando como respuesta el título, la cantidad de votos y el valor promedio de las votaciones. La misma variable deberá de contar con al menos 2000 valoraciones, caso contrario, debemos contar con un mensaje avisando que no cumple esta condición y que por ende, no se devuelve ningun valor.\n",
        "                    Ejemplo de retorno: La película X fue estrenada en el año X. La misma cuenta con un total de X valoraciones, con un promedio de X"
      ],
      "metadata": {
        "id": "h6xr4tH8GmfJ"
      }
    },
    {
      "cell_type": "code",
      "source": [
        "def votos_titulo( titulo_de_la_filmación ):\n",
        "  title = titulo_de_la_filmación.replace(\" \", \"\").lower()\n",
        "  movie_c = movies_final[movies_final['title'].str.replace(\" \", \"\").str.lower().str.contains(title)].drop_duplicates(subset='id')\n",
        "  if movie_c.empty:\n",
        "        return f'No se encontró la película {titulo_de_la_filmación} en la base de datos.'\n",
        "  if (movie_c['vote_count'].iloc[0]<2000):\n",
        "    return f'La película {titulo_de_la_filmación} debe tener al menos 2000 valoraciones para ser medida'\n",
        "  #vote_average\tvote_count\n",
        "  movie = movie_c['title'].iloc[0]\n",
        "  year = movie_c['release_year'].iloc[0]\n",
        "  vote_count = movie_c['vote_count'].iloc[0]\n",
        "  vote_average = movie_c['vote_average'].iloc[0]\n",
        "  return  {'titulo':movie, 'anio':year, 'voto_total':vote_count, 'voto_promedio':vote_average}"
      ],
      "metadata": {
        "id": "-yfvdkgfSHLZ"
      },
      "execution_count": 74,
      "outputs": []
    },
    {
      "cell_type": "code",
      "source": [
        "votos_titulo(' toy  stOry')"
      ],
      "metadata": {
        "colab": {
          "base_uri": "https://localhost:8080/"
        },
        "id": "-V5R4ICra038",
        "outputId": "2c0d3aba-269f-46f5-f08e-eb02d83005ce"
      },
      "execution_count": 75,
      "outputs": [
        {
          "output_type": "execute_result",
          "data": {
            "text/plain": [
              "{'titulo': 'Toy Story',\n",
              " 'anio': 1995,\n",
              " 'voto_total': 5415.0,\n",
              " 'voto_promedio': 7.7}"
            ]
          },
          "metadata": {},
          "execution_count": 75
        }
      ]
    },
    {
      "cell_type": "markdown",
      "source": [
        "def get_actor( nombre_actor ): Se ingresa el nombre de un actor que se encuentre dentro de un dataset debiendo devolver el éxito del mismo medido a través del retorno. Además, la cantidad de películas que en las que ha participado y el promedio de retorno. La definición no deberá considerar directores.\n",
        "                    Ejemplo de retorno: El actor X ha participado de X cantidad de filmaciones, el mismo ha conseguido un retorno de X con un promedio de X por filmación"
      ],
      "metadata": {
        "id": "_O3ne-7UGpqi"
      }
    },
    {
      "cell_type": "code",
      "source": [
        "credits_final.columns"
      ],
      "metadata": {
        "colab": {
          "base_uri": "https://localhost:8080/"
        },
        "id": "kBHAu5Zvl51r",
        "outputId": "ce48b7c3-67f5-47d2-ecfd-f18354d50e90"
      },
      "execution_count": 76,
      "outputs": [
        {
          "output_type": "execute_result",
          "data": {
            "text/plain": [
              "Index(['id', 'cast_name', 'director'], dtype='object')"
            ]
          },
          "metadata": {},
          "execution_count": 76
        }
      ]
    },
    {
      "cell_type": "code",
      "source": [
        "def get_actor( nombre_actor ):\n",
        "  credits_final.dropna(subset=['cast_name'], inplace=True)\n",
        "  actor = nombre_actor.replace(\" \", \"\").lower()\n",
        "  mask = credits_final['cast_name'].str.replace(\" \", \"\").str.lower().str.contains(actor)\n",
        "  # Filtrar el DataFrame para mostrar solo las filas donde se encontró el nombre\n",
        "  filtered = credits_final[mask]\n",
        "  filtered_movies = movies_final[(movies_final['id'].astype(int)).isin(filtered['id'].astype(int))].drop_duplicates(subset='id')\n",
        "  cantidad = len(filtered)\n",
        "  return_movies = round(filtered_movies['return'].sum(), 3)\n",
        "  if cantidad > 0:\n",
        "      average = round(return_movies / cantidad, 3)\n",
        "  else:\n",
        "      average = 0\n",
        "  return {'actor':nombre_actor.title(), 'cantidad_filmaciones':cantidad, 'retorno_total':return_movies, 'retorno_promedio':average}\n"
      ],
      "metadata": {
        "id": "Oy76oZaRSHJK"
      },
      "execution_count": 77,
      "outputs": []
    },
    {
      "cell_type": "code",
      "source": [
        "get_actor('tom hanks')"
      ],
      "metadata": {
        "colab": {
          "base_uri": "https://localhost:8080/"
        },
        "id": "OK9OPWQ2tmtT",
        "outputId": "48814c0e-1e9a-4b29-d902-3224cd5040f1"
      },
      "execution_count": 78,
      "outputs": [
        {
          "output_type": "execute_result",
          "data": {
            "text/plain": [
              "{'actor': 'Tom Hanks',\n",
              " 'cantidad_filmaciones': 71,\n",
              " 'retorno_total': 178.849,\n",
              " 'retorno_promedio': 2.519}"
            ]
          },
          "metadata": {},
          "execution_count": 78
        }
      ]
    },
    {
      "cell_type": "markdown",
      "source": [
        "def get_director( nombre_director ): Se ingresa el nombre de un director que se encuentre dentro de un dataset debiendo devolver el éxito del mismo medido a través del retorno. Además, deberá devolver el nombre de cada película con la fecha de lanzamiento, retorno individual, costo y ganancia de la misma"
      ],
      "metadata": {
        "id": "DM-c_HjlGsZB"
      }
    },
    {
      "cell_type": "code",
      "source": [
        "movies_final.columns"
      ],
      "metadata": {
        "colab": {
          "base_uri": "https://localhost:8080/"
        },
        "id": "JRm6Xr4T0WUK",
        "outputId": "2319746c-4dff-4619-e6a4-77ba933fee6d"
      },
      "execution_count": 79,
      "outputs": [
        {
          "output_type": "execute_result",
          "data": {
            "text/plain": [
              "Index(['budget', 'id', 'original_language', 'overview', 'popularity',\n",
              "       'release_date', 'revenue', 'runtime', 'status', 'tagline', 'title',\n",
              "       'vote_average', 'vote_count', 'return', 'release_year',\n",
              "       'collection_name', 'genres_name', 'production_companies_names',\n",
              "       'production_country', 'spoken_languages_names'],\n",
              "      dtype='object')"
            ]
          },
          "metadata": {},
          "execution_count": 79
        }
      ]
    },
    {
      "cell_type": "code",
      "source": [
        "def get_director( nombre_director ):\n",
        "  credits_final.dropna(subset=['director'], inplace=True)\n",
        "  director = nombre_director.replace(\" \", \"\").lower()\n",
        "  mask = credits_final['director'].str.replace(\" \", \"\").str.lower().str.contains(director)\n",
        "  # Filtrar el DataFrame para mostrar solo las filas donde se encontró el nombre\n",
        "  filtered = credits_final[mask]\n",
        "  filtered_movies = movies_final[(movies_final['id'].astype(int)).isin(filtered['id'].astype(int))].drop_duplicates(subset='id')\n",
        "  return_movies = round(filtered_movies['return'].sum(), 3)\n",
        "  movies = ', '.join(filtered_movies['title'].astype(str))\n",
        "  year = ', '.join(filtered_movies['release_year'].astype(str))\n",
        "  return_movie = ', '.join(filtered_movies['return'].astype(str).apply(lambda x: str(round(float(x), 3))))\n",
        "  budget = ', '.join(filtered_movies['budget'].astype(str).apply(lambda x: str(round(float(x), 3))))\n",
        "  revenue = ', '.join(filtered_movies['revenue'].astype(str).apply(lambda x: str(round(float(x), 3))))\n",
        "\n",
        "  return  {'director':nombre_director.title(), 'retorno_total_director':return_movies,\n",
        "    'peliculas':movies, 'anio':year, 'retorno_pelicula':return_movie,\n",
        "    'budget_pelicula':budget, 'revenue_pelicula':revenue}"
      ],
      "metadata": {
        "id": "rgSM83ACSHGy"
      },
      "execution_count": 80,
      "outputs": []
    },
    {
      "cell_type": "code",
      "source": [
        "get_director('John Lasseter')"
      ],
      "metadata": {
        "id": "MkS71i5USHEi",
        "colab": {
          "base_uri": "https://localhost:8080/"
        },
        "outputId": "502f6fe4-f1d7-4ac4-9221-951b6bdbf6fb"
      },
      "execution_count": 81,
      "outputs": [
        {
          "output_type": "execute_result",
          "data": {
            "text/plain": [
              "{'director': 'John Lasseter',\n",
              " 'retorno_total_director': 27.654,\n",
              " 'peliculas': \"Toy Story, A Bug's Life, Toy Story 2, Luxo Jr., Cars, Cars 2, Tin Toy, Red's Dream, Knick Knack, Mater and the Ghostlight\",\n",
              " 'anio': '1995, 1998, 1999, 1986, 2006, 2011, 1988, 1987, 1989, 2006',\n",
              " 'retorno_pelicula': '12.452, 3.027, 5.526, 0.0, 3.85, 2.799, 0.0, 0.0, 0.0, 0.0',\n",
              " 'budget_pelicula': '30000000.0, 120000000.0, 90000000.0, 0.0, 120000000.0, 200000000.0, 0.0, 0.0, 0.0, 0.0',\n",
              " 'revenue_pelicula': '373554033.0, 363258859.0, 497366869.0, 0.0, 461983149.0, 559852396.0, 0.0, 0.0, 0.0, 0.0'}"
            ]
          },
          "metadata": {},
          "execution_count": 81
        }
      ]
    },
    {
      "cell_type": "code",
      "source": [
        "movies_final.to_csv('movies_final.csv', index=False)"
      ],
      "metadata": {
        "id": "B8BuhJWqSHCa"
      },
      "execution_count": 82,
      "outputs": []
    },
    {
      "cell_type": "code",
      "source": [
        "from google.colab import files\n",
        "# files.download('movies_final.csv')"
      ],
      "metadata": {
        "id": "PJ3MBj8PSHAC"
      },
      "execution_count": 83,
      "outputs": []
    },
    {
      "cell_type": "code",
      "source": [
        "credits_final.to_csv('credits_final.csv', index=False)"
      ],
      "metadata": {
        "id": "baks0tF5SG9i"
      },
      "execution_count": 84,
      "outputs": []
    },
    {
      "cell_type": "code",
      "source": [
        "# files.download('credits_final.csv')"
      ],
      "metadata": {
        "id": "yraWvHMWSG7K"
      },
      "execution_count": 85,
      "outputs": []
    },
    {
      "cell_type": "code",
      "source": [
        "movies_final_op.to_csv('movies_final_op.csv', index=False)"
      ],
      "metadata": {
        "id": "l1XbOBK0peJu"
      },
      "execution_count": 90,
      "outputs": []
    },
    {
      "cell_type": "code",
      "source": [
        "#files.download('movies_final_op.csv',)"
      ],
      "metadata": {
        "colab": {
          "base_uri": "https://localhost:8080/",
          "height": 17
        },
        "id": "LmxsdXt2y0N5",
        "outputId": "7187e7f8-eae4-4e35-a17a-4225564104a3"
      },
      "execution_count": 91,
      "outputs": [
        {
          "output_type": "display_data",
          "data": {
            "text/plain": [
              "<IPython.core.display.Javascript object>"
            ],
            "application/javascript": [
              "\n",
              "    async function download(id, filename, size) {\n",
              "      if (!google.colab.kernel.accessAllowed) {\n",
              "        return;\n",
              "      }\n",
              "      const div = document.createElement('div');\n",
              "      const label = document.createElement('label');\n",
              "      label.textContent = `Downloading \"${filename}\": `;\n",
              "      div.appendChild(label);\n",
              "      const progress = document.createElement('progress');\n",
              "      progress.max = size;\n",
              "      div.appendChild(progress);\n",
              "      document.body.appendChild(div);\n",
              "\n",
              "      const buffers = [];\n",
              "      let downloaded = 0;\n",
              "\n",
              "      const channel = await google.colab.kernel.comms.open(id);\n",
              "      // Send a message to notify the kernel that we're ready.\n",
              "      channel.send({})\n",
              "\n",
              "      for await (const message of channel.messages) {\n",
              "        // Send a message to notify the kernel that we're ready.\n",
              "        channel.send({})\n",
              "        if (message.buffers) {\n",
              "          for (const buffer of message.buffers) {\n",
              "            buffers.push(buffer);\n",
              "            downloaded += buffer.byteLength;\n",
              "            progress.value = downloaded;\n",
              "          }\n",
              "        }\n",
              "      }\n",
              "      const blob = new Blob(buffers, {type: 'application/binary'});\n",
              "      const a = document.createElement('a');\n",
              "      a.href = window.URL.createObjectURL(blob);\n",
              "      a.download = filename;\n",
              "      div.appendChild(a);\n",
              "      a.click();\n",
              "      div.remove();\n",
              "    }\n",
              "  "
            ]
          },
          "metadata": {}
        },
        {
          "output_type": "display_data",
          "data": {
            "text/plain": [
              "<IPython.core.display.Javascript object>"
            ],
            "application/javascript": [
              "download(\"download_69944954-86ba-4b64-97f5-d9204a5f9c5b\", \"movies_final_op.csv\", 3321321)"
            ]
          },
          "metadata": {}
        }
      ]
    },
    {
      "cell_type": "code",
      "source": [],
      "metadata": {
        "id": "8d3b8PfIy3Lw"
      },
      "execution_count": null,
      "outputs": []
    }
  ]
}